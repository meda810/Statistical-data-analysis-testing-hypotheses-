{
 "cells": [
  {
   "cell_type": "markdown",
   "metadata": {},
   "source": [
    "# Определение перспективного тарифа для телеком-компании"
   ]
  },
  {
   "cell_type": "markdown",
   "metadata": {},
   "source": [
    "***Описание проекта***\n",
    "\n",
    "Вы аналитик компании «Мегалайн» — федерального оператора сотовой связи. Клиентам предлагают два тарифных плана: «Смарт» и «Ультра». Чтобы скорректировать рекламный бюджет, коммерческий департамент хочет понять, какой тариф приносит больше денег.\n",
    "\n",
    "Вам предстоит сделать предварительный анализ тарифов на небольшой выборке клиентов. В вашем распоряжении данные 500 пользователей «Мегалайна»: кто они, откуда, каким тарифом пользуются, сколько звонков и сообщений каждый отправил за 2018 год. Нужно проанализировать поведение клиентов и сделать вывод — какой тариф лучше.\n",
    "\n",
    "***Описание тарифов***\n",
    "- Тариф «Смарт»\n",
    "Ежемесячная плата: 550 рублей\n",
    "Включено 500 минут разговора, 50 сообщений и 15 Гб интернет-трафика\n",
    "Стоимость услуг сверх тарифного пакета:\n",
    "минута разговора: 3 рубля\n",
    "сообщение: 3 рубля\n",
    "1 Гб интернет-трафика: 200 рублей\n",
    "\n",
    "- Тариф «Ультра»\n",
    "Ежемесячная плата: 1950 рублей\n",
    "Включено 3000 минут разговора, 1000 сообщений и 30 Гб интернет-трафика\n",
    "Стоимость услуг сверх тарифного пакета:\n",
    "минута разговора: 1 рубль\n",
    "сообщение: 1 рубль\n",
    "1 Гб интернет-трафика: 150 рублей\n",
    "\n",
    "***Описание представленных данных***\n",
    "\n",
    "Таблица users (информация о пользователях):\n",
    "- user_id — уникальный идентификатор пользователя\n",
    "- first_name — имя пользователя\n",
    "- last_name — фамилия пользователя\n",
    "- age — возраст пользователя (годы)\n",
    "- reg_date — дата подключения тарифа (день, месяц, год)\n",
    "- churn_date — дата прекращения пользования тарифом (если значение пропущено, то тариф ещё действовал на момент выгрузки данных)\n",
    "- city — город проживания пользователя\n",
    "- tariff — название тарифного плана\n",
    "\n",
    "Таблица calls (информация о звонках):\n",
    "- id — уникальный номер звонка\n",
    "- call_date — дата звонка\n",
    "- duration — длительность звонка в минутах\n",
    "- user_id — идентификатор пользователя, сделавшего звонок\n",
    "\n",
    "Таблица messages (информация о сообщениях):\n",
    "- id — уникальный номер сообщения\n",
    "- message_date — дата сообщения\n",
    "- user_id — идентификатор пользователя, отправившего сообщение\n",
    "\n",
    "Таблица internet (информация об интернет-сессиях):\n",
    "- id — уникальный номер сессии\n",
    "- mb_used — объём потраченного за сессию интернет-трафика (в мегабайтах)\n",
    "- session_date — дата интернет-сессии\n",
    "- user_id — идентификатор пользователя\n",
    "\n",
    "Таблица tariffs (информация о тарифах):\n",
    "- tariff_name — название тарифа\n",
    "- rub_monthly_fee — ежемесячная абонентская плата в рублях\n",
    "- minutes_included — количество минут разговора в месяц, включённых в абонентскую плату\n",
    "- messages_included — количество сообщений в месяц, включённых в абонентскую плату\n",
    "- mb_per_month_included — объём интернет-трафика, включённого в абонентскую плату (в мегабайтах)\n",
    "- rub_per_minute — стоимость минуты разговора сверх тарифного пакета (например, если в тарифе 100 минут разговора в месяц, то со 101 минуты будет взиматься плата)\n",
    "- rub_per_message — стоимость отправки сообщения сверх тарифного пакета\n",
    "- rub_per_gb — стоимость дополнительного гигабайта интернет-трафика сверх тарифного пакета (1 гигабайт = 1024 мегабайта)\n",
    "/\n",
    "\n",
    "***План работы***\n",
    "- подготовка (предообработка) данных\n",
    "- анализ данных\n",
    "- проверка гипотез"
   ]
  },
  {
   "cell_type": "markdown",
   "metadata": {},
   "source": [
    "## Изучение данных из файла"
   ]
  },
  {
   "cell_type": "code",
   "execution_count": 1,
   "metadata": {},
   "outputs": [],
   "source": [
    "import pandas as pd\n",
    "import numpy as np\n",
    "import matplotlib.pyplot as plt\n",
    "from scipy import stats as st"
   ]
  },
  {
   "cell_type": "code",
   "execution_count": 2,
   "metadata": {},
   "outputs": [],
   "source": [
    "pd.options.display.max_columns = 200"
   ]
  },
  {
   "cell_type": "code",
   "execution_count": 3,
   "metadata": {},
   "outputs": [],
   "source": [
    "try:\n",
    "    calls = pd.read_csv('/datasets/calls.csv', sep=',')\n",
    "except:\n",
    "    calls = pd.read_csv('C:/Users/admin/Desktop/ЯндексПрактикум/1 часть/Статистический анализ. Перспективный тариф/calls.csv', sep=',')"
   ]
  },
  {
   "cell_type": "code",
   "execution_count": 4,
   "metadata": {
    "scrolled": true
   },
   "outputs": [
    {
     "name": "stdout",
     "output_type": "stream",
     "text": [
      "<class 'pandas.core.frame.DataFrame'>\n",
      "RangeIndex: 202607 entries, 0 to 202606\n",
      "Data columns (total 4 columns):\n",
      " #   Column     Non-Null Count   Dtype  \n",
      "---  ------     --------------   -----  \n",
      " 0   id         202607 non-null  object \n",
      " 1   call_date  202607 non-null  object \n",
      " 2   duration   202607 non-null  float64\n",
      " 3   user_id    202607 non-null  int64  \n",
      "dtypes: float64(1), int64(1), object(2)\n",
      "memory usage: 6.2+ MB\n"
     ]
    },
    {
     "data": {
      "text/html": [
       "<div>\n",
       "<style scoped>\n",
       "    .dataframe tbody tr th:only-of-type {\n",
       "        vertical-align: middle;\n",
       "    }\n",
       "\n",
       "    .dataframe tbody tr th {\n",
       "        vertical-align: top;\n",
       "    }\n",
       "\n",
       "    .dataframe thead th {\n",
       "        text-align: right;\n",
       "    }\n",
       "</style>\n",
       "<table border=\"1\" class=\"dataframe\">\n",
       "  <thead>\n",
       "    <tr style=\"text-align: right;\">\n",
       "      <th></th>\n",
       "      <th>id</th>\n",
       "      <th>call_date</th>\n",
       "      <th>duration</th>\n",
       "      <th>user_id</th>\n",
       "    </tr>\n",
       "  </thead>\n",
       "  <tbody>\n",
       "    <tr>\n",
       "      <th>0</th>\n",
       "      <td>1000_0</td>\n",
       "      <td>2018-07-25</td>\n",
       "      <td>0.00</td>\n",
       "      <td>1000</td>\n",
       "    </tr>\n",
       "    <tr>\n",
       "      <th>1</th>\n",
       "      <td>1000_1</td>\n",
       "      <td>2018-08-17</td>\n",
       "      <td>0.00</td>\n",
       "      <td>1000</td>\n",
       "    </tr>\n",
       "    <tr>\n",
       "      <th>2</th>\n",
       "      <td>1000_2</td>\n",
       "      <td>2018-06-11</td>\n",
       "      <td>2.85</td>\n",
       "      <td>1000</td>\n",
       "    </tr>\n",
       "    <tr>\n",
       "      <th>3</th>\n",
       "      <td>1000_3</td>\n",
       "      <td>2018-09-21</td>\n",
       "      <td>13.80</td>\n",
       "      <td>1000</td>\n",
       "    </tr>\n",
       "    <tr>\n",
       "      <th>4</th>\n",
       "      <td>1000_4</td>\n",
       "      <td>2018-12-15</td>\n",
       "      <td>5.18</td>\n",
       "      <td>1000</td>\n",
       "    </tr>\n",
       "    <tr>\n",
       "      <th>5</th>\n",
       "      <td>1000_5</td>\n",
       "      <td>2018-11-02</td>\n",
       "      <td>0.00</td>\n",
       "      <td>1000</td>\n",
       "    </tr>\n",
       "    <tr>\n",
       "      <th>6</th>\n",
       "      <td>1000_6</td>\n",
       "      <td>2018-10-18</td>\n",
       "      <td>0.00</td>\n",
       "      <td>1000</td>\n",
       "    </tr>\n",
       "    <tr>\n",
       "      <th>7</th>\n",
       "      <td>1000_7</td>\n",
       "      <td>2018-08-22</td>\n",
       "      <td>18.31</td>\n",
       "      <td>1000</td>\n",
       "    </tr>\n",
       "    <tr>\n",
       "      <th>8</th>\n",
       "      <td>1000_8</td>\n",
       "      <td>2018-09-15</td>\n",
       "      <td>18.44</td>\n",
       "      <td>1000</td>\n",
       "    </tr>\n",
       "    <tr>\n",
       "      <th>9</th>\n",
       "      <td>1000_9</td>\n",
       "      <td>2018-08-15</td>\n",
       "      <td>0.00</td>\n",
       "      <td>1000</td>\n",
       "    </tr>\n",
       "  </tbody>\n",
       "</table>\n",
       "</div>"
      ],
      "text/plain": [
       "       id   call_date  duration  user_id\n",
       "0  1000_0  2018-07-25      0.00     1000\n",
       "1  1000_1  2018-08-17      0.00     1000\n",
       "2  1000_2  2018-06-11      2.85     1000\n",
       "3  1000_3  2018-09-21     13.80     1000\n",
       "4  1000_4  2018-12-15      5.18     1000\n",
       "5  1000_5  2018-11-02      0.00     1000\n",
       "6  1000_6  2018-10-18      0.00     1000\n",
       "7  1000_7  2018-08-22     18.31     1000\n",
       "8  1000_8  2018-09-15     18.44     1000\n",
       "9  1000_9  2018-08-15      0.00     1000"
      ]
     },
     "execution_count": 4,
     "metadata": {},
     "output_type": "execute_result"
    }
   ],
   "source": [
    "calls.info()\n",
    "calls.head(10)\n",
    "#alls['duration'].max()"
   ]
  },
  {
   "cell_type": "code",
   "execution_count": 5,
   "metadata": {},
   "outputs": [],
   "source": [
    "try:\n",
    "    internet = pd.read_csv('/datasets/internet.csv', sep=',')\n",
    "except:\n",
    "    internet = pd.read_csv('C:/Users/admin/Desktop/ЯндексПрактикум/1 часть/Статистический анализ. Перспективный тариф/internet.csv', sep=',')"
   ]
  },
  {
   "cell_type": "code",
   "execution_count": 6,
   "metadata": {
    "scrolled": true
   },
   "outputs": [
    {
     "name": "stdout",
     "output_type": "stream",
     "text": [
      "<class 'pandas.core.frame.DataFrame'>\n",
      "RangeIndex: 149396 entries, 0 to 149395\n",
      "Data columns (total 5 columns):\n",
      " #   Column        Non-Null Count   Dtype  \n",
      "---  ------        --------------   -----  \n",
      " 0   Unnamed: 0    149396 non-null  int64  \n",
      " 1   id            149396 non-null  object \n",
      " 2   mb_used       149396 non-null  float64\n",
      " 3   session_date  149396 non-null  object \n",
      " 4   user_id       149396 non-null  int64  \n",
      "dtypes: float64(1), int64(2), object(2)\n",
      "memory usage: 5.7+ MB\n"
     ]
    },
    {
     "data": {
      "text/plain": [
       "Index(['Unnamed: 0', 'id', 'mb_used', 'session_date', 'user_id'], dtype='object')"
      ]
     },
     "metadata": {},
     "output_type": "display_data"
    },
    {
     "data": {
      "text/plain": [
       "1724.83"
      ]
     },
     "metadata": {},
     "output_type": "display_data"
    },
    {
     "data": {
      "text/html": [
       "<div>\n",
       "<style scoped>\n",
       "    .dataframe tbody tr th:only-of-type {\n",
       "        vertical-align: middle;\n",
       "    }\n",
       "\n",
       "    .dataframe tbody tr th {\n",
       "        vertical-align: top;\n",
       "    }\n",
       "\n",
       "    .dataframe thead th {\n",
       "        text-align: right;\n",
       "    }\n",
       "</style>\n",
       "<table border=\"1\" class=\"dataframe\">\n",
       "  <thead>\n",
       "    <tr style=\"text-align: right;\">\n",
       "      <th></th>\n",
       "      <th>Unnamed: 0</th>\n",
       "      <th>id</th>\n",
       "      <th>mb_used</th>\n",
       "      <th>session_date</th>\n",
       "      <th>user_id</th>\n",
       "    </tr>\n",
       "  </thead>\n",
       "  <tbody>\n",
       "    <tr>\n",
       "      <th>0</th>\n",
       "      <td>0</td>\n",
       "      <td>1000_0</td>\n",
       "      <td>112.95</td>\n",
       "      <td>2018-11-25</td>\n",
       "      <td>1000</td>\n",
       "    </tr>\n",
       "    <tr>\n",
       "      <th>1</th>\n",
       "      <td>1</td>\n",
       "      <td>1000_1</td>\n",
       "      <td>1052.81</td>\n",
       "      <td>2018-09-07</td>\n",
       "      <td>1000</td>\n",
       "    </tr>\n",
       "    <tr>\n",
       "      <th>2</th>\n",
       "      <td>2</td>\n",
       "      <td>1000_2</td>\n",
       "      <td>1197.26</td>\n",
       "      <td>2018-06-25</td>\n",
       "      <td>1000</td>\n",
       "    </tr>\n",
       "    <tr>\n",
       "      <th>3</th>\n",
       "      <td>3</td>\n",
       "      <td>1000_3</td>\n",
       "      <td>550.27</td>\n",
       "      <td>2018-08-22</td>\n",
       "      <td>1000</td>\n",
       "    </tr>\n",
       "    <tr>\n",
       "      <th>4</th>\n",
       "      <td>4</td>\n",
       "      <td>1000_4</td>\n",
       "      <td>302.56</td>\n",
       "      <td>2018-09-24</td>\n",
       "      <td>1000</td>\n",
       "    </tr>\n",
       "    <tr>\n",
       "      <th>5</th>\n",
       "      <td>5</td>\n",
       "      <td>1000_5</td>\n",
       "      <td>399.97</td>\n",
       "      <td>2018-10-02</td>\n",
       "      <td>1000</td>\n",
       "    </tr>\n",
       "    <tr>\n",
       "      <th>6</th>\n",
       "      <td>6</td>\n",
       "      <td>1000_6</td>\n",
       "      <td>540.08</td>\n",
       "      <td>2018-09-07</td>\n",
       "      <td>1000</td>\n",
       "    </tr>\n",
       "    <tr>\n",
       "      <th>7</th>\n",
       "      <td>7</td>\n",
       "      <td>1000_7</td>\n",
       "      <td>415.70</td>\n",
       "      <td>2018-07-11</td>\n",
       "      <td>1000</td>\n",
       "    </tr>\n",
       "    <tr>\n",
       "      <th>8</th>\n",
       "      <td>8</td>\n",
       "      <td>1000_8</td>\n",
       "      <td>505.40</td>\n",
       "      <td>2018-10-08</td>\n",
       "      <td>1000</td>\n",
       "    </tr>\n",
       "    <tr>\n",
       "      <th>9</th>\n",
       "      <td>9</td>\n",
       "      <td>1000_9</td>\n",
       "      <td>345.54</td>\n",
       "      <td>2018-09-03</td>\n",
       "      <td>1000</td>\n",
       "    </tr>\n",
       "  </tbody>\n",
       "</table>\n",
       "</div>"
      ],
      "text/plain": [
       "   Unnamed: 0      id  mb_used session_date  user_id\n",
       "0           0  1000_0   112.95   2018-11-25     1000\n",
       "1           1  1000_1  1052.81   2018-09-07     1000\n",
       "2           2  1000_2  1197.26   2018-06-25     1000\n",
       "3           3  1000_3   550.27   2018-08-22     1000\n",
       "4           4  1000_4   302.56   2018-09-24     1000\n",
       "5           5  1000_5   399.97   2018-10-02     1000\n",
       "6           6  1000_6   540.08   2018-09-07     1000\n",
       "7           7  1000_7   415.70   2018-07-11     1000\n",
       "8           8  1000_8   505.40   2018-10-08     1000\n",
       "9           9  1000_9   345.54   2018-09-03     1000"
      ]
     },
     "execution_count": 6,
     "metadata": {},
     "output_type": "execute_result"
    }
   ],
   "source": [
    "internet.info()\n",
    "display(internet.columns)\n",
    "display(internet['mb_used'].max())\n",
    "internet.head(10)"
   ]
  },
  {
   "cell_type": "code",
   "execution_count": 7,
   "metadata": {},
   "outputs": [],
   "source": [
    "try:\n",
    "    messages = pd.read_csv('/datasets/messages.csv', sep=',')\n",
    "except:\n",
    "    messages = pd.read_csv('C:/Users/admin/Desktop/ЯндексПрактикум/1 часть/Статистический анализ. Перспективный тариф/messages.csv', sep=',')"
   ]
  },
  {
   "cell_type": "code",
   "execution_count": 8,
   "metadata": {
    "scrolled": true
   },
   "outputs": [
    {
     "name": "stdout",
     "output_type": "stream",
     "text": [
      "<class 'pandas.core.frame.DataFrame'>\n",
      "RangeIndex: 123036 entries, 0 to 123035\n",
      "Data columns (total 3 columns):\n",
      " #   Column        Non-Null Count   Dtype \n",
      "---  ------        --------------   ----- \n",
      " 0   id            123036 non-null  object\n",
      " 1   message_date  123036 non-null  object\n",
      " 2   user_id       123036 non-null  int64 \n",
      "dtypes: int64(1), object(2)\n",
      "memory usage: 2.8+ MB\n"
     ]
    },
    {
     "data": {
      "text/html": [
       "<div>\n",
       "<style scoped>\n",
       "    .dataframe tbody tr th:only-of-type {\n",
       "        vertical-align: middle;\n",
       "    }\n",
       "\n",
       "    .dataframe tbody tr th {\n",
       "        vertical-align: top;\n",
       "    }\n",
       "\n",
       "    .dataframe thead th {\n",
       "        text-align: right;\n",
       "    }\n",
       "</style>\n",
       "<table border=\"1\" class=\"dataframe\">\n",
       "  <thead>\n",
       "    <tr style=\"text-align: right;\">\n",
       "      <th></th>\n",
       "      <th>id</th>\n",
       "      <th>message_date</th>\n",
       "      <th>user_id</th>\n",
       "    </tr>\n",
       "  </thead>\n",
       "  <tbody>\n",
       "    <tr>\n",
       "      <th>0</th>\n",
       "      <td>1000_0</td>\n",
       "      <td>2018-06-27</td>\n",
       "      <td>1000</td>\n",
       "    </tr>\n",
       "    <tr>\n",
       "      <th>1</th>\n",
       "      <td>1000_1</td>\n",
       "      <td>2018-10-08</td>\n",
       "      <td>1000</td>\n",
       "    </tr>\n",
       "    <tr>\n",
       "      <th>2</th>\n",
       "      <td>1000_2</td>\n",
       "      <td>2018-08-04</td>\n",
       "      <td>1000</td>\n",
       "    </tr>\n",
       "    <tr>\n",
       "      <th>3</th>\n",
       "      <td>1000_3</td>\n",
       "      <td>2018-06-16</td>\n",
       "      <td>1000</td>\n",
       "    </tr>\n",
       "    <tr>\n",
       "      <th>4</th>\n",
       "      <td>1000_4</td>\n",
       "      <td>2018-12-05</td>\n",
       "      <td>1000</td>\n",
       "    </tr>\n",
       "    <tr>\n",
       "      <th>5</th>\n",
       "      <td>1000_5</td>\n",
       "      <td>2018-06-20</td>\n",
       "      <td>1000</td>\n",
       "    </tr>\n",
       "    <tr>\n",
       "      <th>6</th>\n",
       "      <td>1000_6</td>\n",
       "      <td>2018-11-19</td>\n",
       "      <td>1000</td>\n",
       "    </tr>\n",
       "    <tr>\n",
       "      <th>7</th>\n",
       "      <td>1000_7</td>\n",
       "      <td>2018-10-29</td>\n",
       "      <td>1000</td>\n",
       "    </tr>\n",
       "    <tr>\n",
       "      <th>8</th>\n",
       "      <td>1000_8</td>\n",
       "      <td>2018-06-25</td>\n",
       "      <td>1000</td>\n",
       "    </tr>\n",
       "    <tr>\n",
       "      <th>9</th>\n",
       "      <td>1000_9</td>\n",
       "      <td>2018-12-18</td>\n",
       "      <td>1000</td>\n",
       "    </tr>\n",
       "  </tbody>\n",
       "</table>\n",
       "</div>"
      ],
      "text/plain": [
       "       id message_date  user_id\n",
       "0  1000_0   2018-06-27     1000\n",
       "1  1000_1   2018-10-08     1000\n",
       "2  1000_2   2018-08-04     1000\n",
       "3  1000_3   2018-06-16     1000\n",
       "4  1000_4   2018-12-05     1000\n",
       "5  1000_5   2018-06-20     1000\n",
       "6  1000_6   2018-11-19     1000\n",
       "7  1000_7   2018-10-29     1000\n",
       "8  1000_8   2018-06-25     1000\n",
       "9  1000_9   2018-12-18     1000"
      ]
     },
     "execution_count": 8,
     "metadata": {},
     "output_type": "execute_result"
    }
   ],
   "source": [
    "messages.info()\n",
    "messages.head(10)"
   ]
  },
  {
   "cell_type": "code",
   "execution_count": 9,
   "metadata": {},
   "outputs": [],
   "source": [
    "try:\n",
    "    tariffs = pd.read_csv('/datasets/tariffs.csv', sep=',')\n",
    "except:\n",
    "    tariffs = pd.read_csv('C:/Users/admin/Desktop/ЯндексПрактикум/1 часть/Статистический анализ. Перспективный тариф/tariffs.csv', sep=',')"
   ]
  },
  {
   "cell_type": "code",
   "execution_count": 10,
   "metadata": {
    "scrolled": true
   },
   "outputs": [
    {
     "name": "stdout",
     "output_type": "stream",
     "text": [
      "<class 'pandas.core.frame.DataFrame'>\n",
      "RangeIndex: 2 entries, 0 to 1\n",
      "Data columns (total 8 columns):\n",
      " #   Column                 Non-Null Count  Dtype \n",
      "---  ------                 --------------  ----- \n",
      " 0   messages_included      2 non-null      int64 \n",
      " 1   mb_per_month_included  2 non-null      int64 \n",
      " 2   minutes_included       2 non-null      int64 \n",
      " 3   rub_monthly_fee        2 non-null      int64 \n",
      " 4   rub_per_gb             2 non-null      int64 \n",
      " 5   rub_per_message        2 non-null      int64 \n",
      " 6   rub_per_minute         2 non-null      int64 \n",
      " 7   tariff_name            2 non-null      object\n",
      "dtypes: int64(7), object(1)\n",
      "memory usage: 256.0+ bytes\n"
     ]
    },
    {
     "data": {
      "text/html": [
       "<div>\n",
       "<style scoped>\n",
       "    .dataframe tbody tr th:only-of-type {\n",
       "        vertical-align: middle;\n",
       "    }\n",
       "\n",
       "    .dataframe tbody tr th {\n",
       "        vertical-align: top;\n",
       "    }\n",
       "\n",
       "    .dataframe thead th {\n",
       "        text-align: right;\n",
       "    }\n",
       "</style>\n",
       "<table border=\"1\" class=\"dataframe\">\n",
       "  <thead>\n",
       "    <tr style=\"text-align: right;\">\n",
       "      <th></th>\n",
       "      <th>messages_included</th>\n",
       "      <th>mb_per_month_included</th>\n",
       "      <th>minutes_included</th>\n",
       "      <th>rub_monthly_fee</th>\n",
       "      <th>rub_per_gb</th>\n",
       "      <th>rub_per_message</th>\n",
       "      <th>rub_per_minute</th>\n",
       "      <th>tariff_name</th>\n",
       "    </tr>\n",
       "  </thead>\n",
       "  <tbody>\n",
       "    <tr>\n",
       "      <th>0</th>\n",
       "      <td>50</td>\n",
       "      <td>15360</td>\n",
       "      <td>500</td>\n",
       "      <td>550</td>\n",
       "      <td>200</td>\n",
       "      <td>3</td>\n",
       "      <td>3</td>\n",
       "      <td>smart</td>\n",
       "    </tr>\n",
       "    <tr>\n",
       "      <th>1</th>\n",
       "      <td>1000</td>\n",
       "      <td>30720</td>\n",
       "      <td>3000</td>\n",
       "      <td>1950</td>\n",
       "      <td>150</td>\n",
       "      <td>1</td>\n",
       "      <td>1</td>\n",
       "      <td>ultra</td>\n",
       "    </tr>\n",
       "  </tbody>\n",
       "</table>\n",
       "</div>"
      ],
      "text/plain": [
       "   messages_included  mb_per_month_included  minutes_included  \\\n",
       "0                 50                  15360               500   \n",
       "1               1000                  30720              3000   \n",
       "\n",
       "   rub_monthly_fee  rub_per_gb  rub_per_message  rub_per_minute tariff_name  \n",
       "0              550         200                3               3       smart  \n",
       "1             1950         150                1               1       ultra  "
      ]
     },
     "execution_count": 10,
     "metadata": {},
     "output_type": "execute_result"
    }
   ],
   "source": [
    "tariffs.info()\n",
    "tariffs"
   ]
  },
  {
   "cell_type": "code",
   "execution_count": 11,
   "metadata": {},
   "outputs": [],
   "source": [
    "try:\n",
    "    users = pd.read_csv('/datasets/users.csv', sep=',')\n",
    "except:\n",
    "    users = pd.read_csv('C:/Users/admin/Desktop/ЯндексПрактикум/1 часть/Статистический анализ. Перспективный тариф/users.csv', sep=',')"
   ]
  },
  {
   "cell_type": "code",
   "execution_count": 12,
   "metadata": {
    "scrolled": true
   },
   "outputs": [
    {
     "name": "stdout",
     "output_type": "stream",
     "text": [
      "<class 'pandas.core.frame.DataFrame'>\n",
      "RangeIndex: 500 entries, 0 to 499\n",
      "Data columns (total 8 columns):\n",
      " #   Column      Non-Null Count  Dtype \n",
      "---  ------      --------------  ----- \n",
      " 0   user_id     500 non-null    int64 \n",
      " 1   age         500 non-null    int64 \n",
      " 2   churn_date  38 non-null     object\n",
      " 3   city        500 non-null    object\n",
      " 4   first_name  500 non-null    object\n",
      " 5   last_name   500 non-null    object\n",
      " 6   reg_date    500 non-null    object\n",
      " 7   tariff      500 non-null    object\n",
      "dtypes: int64(2), object(6)\n",
      "memory usage: 31.4+ KB\n"
     ]
    },
    {
     "data": {
      "text/html": [
       "<div>\n",
       "<style scoped>\n",
       "    .dataframe tbody tr th:only-of-type {\n",
       "        vertical-align: middle;\n",
       "    }\n",
       "\n",
       "    .dataframe tbody tr th {\n",
       "        vertical-align: top;\n",
       "    }\n",
       "\n",
       "    .dataframe thead th {\n",
       "        text-align: right;\n",
       "    }\n",
       "</style>\n",
       "<table border=\"1\" class=\"dataframe\">\n",
       "  <thead>\n",
       "    <tr style=\"text-align: right;\">\n",
       "      <th></th>\n",
       "      <th>user_id</th>\n",
       "      <th>age</th>\n",
       "      <th>churn_date</th>\n",
       "      <th>city</th>\n",
       "      <th>first_name</th>\n",
       "      <th>last_name</th>\n",
       "      <th>reg_date</th>\n",
       "      <th>tariff</th>\n",
       "    </tr>\n",
       "  </thead>\n",
       "  <tbody>\n",
       "    <tr>\n",
       "      <th>0</th>\n",
       "      <td>1000</td>\n",
       "      <td>52</td>\n",
       "      <td>NaN</td>\n",
       "      <td>Краснодар</td>\n",
       "      <td>Рафаил</td>\n",
       "      <td>Верещагин</td>\n",
       "      <td>2018-05-25</td>\n",
       "      <td>ultra</td>\n",
       "    </tr>\n",
       "    <tr>\n",
       "      <th>1</th>\n",
       "      <td>1001</td>\n",
       "      <td>41</td>\n",
       "      <td>NaN</td>\n",
       "      <td>Москва</td>\n",
       "      <td>Иван</td>\n",
       "      <td>Ежов</td>\n",
       "      <td>2018-11-01</td>\n",
       "      <td>smart</td>\n",
       "    </tr>\n",
       "    <tr>\n",
       "      <th>2</th>\n",
       "      <td>1002</td>\n",
       "      <td>59</td>\n",
       "      <td>NaN</td>\n",
       "      <td>Стерлитамак</td>\n",
       "      <td>Евгений</td>\n",
       "      <td>Абрамович</td>\n",
       "      <td>2018-06-17</td>\n",
       "      <td>smart</td>\n",
       "    </tr>\n",
       "    <tr>\n",
       "      <th>3</th>\n",
       "      <td>1003</td>\n",
       "      <td>23</td>\n",
       "      <td>NaN</td>\n",
       "      <td>Москва</td>\n",
       "      <td>Белла</td>\n",
       "      <td>Белякова</td>\n",
       "      <td>2018-08-17</td>\n",
       "      <td>ultra</td>\n",
       "    </tr>\n",
       "    <tr>\n",
       "      <th>4</th>\n",
       "      <td>1004</td>\n",
       "      <td>68</td>\n",
       "      <td>NaN</td>\n",
       "      <td>Новокузнецк</td>\n",
       "      <td>Татьяна</td>\n",
       "      <td>Авдеенко</td>\n",
       "      <td>2018-05-14</td>\n",
       "      <td>ultra</td>\n",
       "    </tr>\n",
       "    <tr>\n",
       "      <th>5</th>\n",
       "      <td>1005</td>\n",
       "      <td>67</td>\n",
       "      <td>NaN</td>\n",
       "      <td>Набережные Челны</td>\n",
       "      <td>Афанасий</td>\n",
       "      <td>Горлов</td>\n",
       "      <td>2018-01-25</td>\n",
       "      <td>smart</td>\n",
       "    </tr>\n",
       "    <tr>\n",
       "      <th>6</th>\n",
       "      <td>1006</td>\n",
       "      <td>21</td>\n",
       "      <td>NaN</td>\n",
       "      <td>Ульяновск</td>\n",
       "      <td>Леонид</td>\n",
       "      <td>Ермолаев</td>\n",
       "      <td>2018-02-26</td>\n",
       "      <td>smart</td>\n",
       "    </tr>\n",
       "    <tr>\n",
       "      <th>7</th>\n",
       "      <td>1007</td>\n",
       "      <td>65</td>\n",
       "      <td>NaN</td>\n",
       "      <td>Москва</td>\n",
       "      <td>Юна</td>\n",
       "      <td>Березина</td>\n",
       "      <td>2018-04-19</td>\n",
       "      <td>smart</td>\n",
       "    </tr>\n",
       "    <tr>\n",
       "      <th>8</th>\n",
       "      <td>1008</td>\n",
       "      <td>63</td>\n",
       "      <td>NaN</td>\n",
       "      <td>Челябинск</td>\n",
       "      <td>Рустэм</td>\n",
       "      <td>Пономарёв</td>\n",
       "      <td>2018-12-19</td>\n",
       "      <td>smart</td>\n",
       "    </tr>\n",
       "    <tr>\n",
       "      <th>9</th>\n",
       "      <td>1009</td>\n",
       "      <td>24</td>\n",
       "      <td>NaN</td>\n",
       "      <td>Пермь</td>\n",
       "      <td>Василиса</td>\n",
       "      <td>Блинова</td>\n",
       "      <td>2018-03-22</td>\n",
       "      <td>smart</td>\n",
       "    </tr>\n",
       "  </tbody>\n",
       "</table>\n",
       "</div>"
      ],
      "text/plain": [
       "   user_id  age churn_date              city first_name  last_name  \\\n",
       "0     1000   52        NaN         Краснодар     Рафаил  Верещагин   \n",
       "1     1001   41        NaN            Москва       Иван       Ежов   \n",
       "2     1002   59        NaN       Стерлитамак    Евгений  Абрамович   \n",
       "3     1003   23        NaN            Москва      Белла   Белякова   \n",
       "4     1004   68        NaN       Новокузнецк    Татьяна   Авдеенко   \n",
       "5     1005   67        NaN  Набережные Челны   Афанасий     Горлов   \n",
       "6     1006   21        NaN         Ульяновск     Леонид   Ермолаев   \n",
       "7     1007   65        NaN            Москва        Юна   Березина   \n",
       "8     1008   63        NaN         Челябинск     Рустэм  Пономарёв   \n",
       "9     1009   24        NaN             Пермь   Василиса    Блинова   \n",
       "\n",
       "     reg_date tariff  \n",
       "0  2018-05-25  ultra  \n",
       "1  2018-11-01  smart  \n",
       "2  2018-06-17  smart  \n",
       "3  2018-08-17  ultra  \n",
       "4  2018-05-14  ultra  \n",
       "5  2018-01-25  smart  \n",
       "6  2018-02-26  smart  \n",
       "7  2018-04-19  smart  \n",
       "8  2018-12-19  smart  \n",
       "9  2018-03-22  smart  "
      ]
     },
     "execution_count": 12,
     "metadata": {},
     "output_type": "execute_result"
    }
   ],
   "source": [
    "users.info()\n",
    "users.head(10)"
   ]
  },
  {
   "cell_type": "markdown",
   "metadata": {},
   "source": [
    "### Выводы\n",
    "\n",
    "Заметил, что \n",
    "- во всех ДФ тип данных столбцов с датами - object\n",
    "- во всех ДФ значение в столбцах user_id - int64. Думаю, что надо перевести в object \n",
    "- имеется безликий столбец 'Unnamed: 0' в ДФ \"internet\" \n",
    "- также буду округлять секунды до минут в большую сторону в \"calls\" и переводить в int64, т.к. плата идет за минуты\n",
    "- также заменю название столбца tariff в \"users\", чтобы можно было объединить с \"tariffs\"\n"
   ]
  },
  {
   "cell_type": "markdown",
   "metadata": {},
   "source": [
    "## Подготовка данных"
   ]
  },
  {
   "cell_type": "markdown",
   "metadata": {},
   "source": [
    "### Работа с типом данных\n"
   ]
  },
  {
   "cell_type": "code",
   "execution_count": 13,
   "metadata": {},
   "outputs": [],
   "source": [
    "#замена типа данных в столбцах с датами\n",
    "calls['call_date'] = calls['call_date'].astype('datetime64')\n",
    "internet['session_date'] = internet['session_date'].astype('datetime64')\n",
    "messages['message_date'] = messages['message_date'].astype('datetime64')\n",
    "users['reg_date'] = users['reg_date'].astype('datetime64')\n",
    "users['churn_date'] = users['churn_date'].astype('datetime64')\n",
    "\n",
    "#хотел пройтись по списку из дф, но не додумался как\n",
    "# dfs = [calls, internet, messages, users]\n",
    "# for df in dfs:\n",
    "#     if 'date' in df.columns:\n",
    "#         df.columns = df.columns.astype('datetime64')\n",
    "        \n",
    "#замена типа данных в столбцах user_id\n",
    "dfs = [calls, internet, messages, users]\n",
    "for df in dfs:\n",
    "    df['user_id'] = df['user_id'].astype('object')\n",
    "    \n",
    "#удаление столбца \"Unnamed: 0\" в ДФ \"internet\"\n",
    "del internet['Unnamed: 0']\n",
    "\n",
    "#округление минут в большую сторону и перевод в int\n",
    "calls['duration'] = calls['duration'].apply(np.ceil).astype('int')\n",
    "\n",
    "#замена название столбца в \"users\"\n",
    "users = users.rename(columns={'tariff':'tariff_name'})"
   ]
  },
  {
   "cell_type": "code",
   "execution_count": 14,
   "metadata": {
    "scrolled": true
   },
   "outputs": [
    {
     "name": "stdout",
     "output_type": "stream",
     "text": [
      "<class 'pandas.core.frame.DataFrame'>\n",
      "RangeIndex: 202607 entries, 0 to 202606\n",
      "Data columns (total 4 columns):\n",
      " #   Column     Non-Null Count   Dtype         \n",
      "---  ------     --------------   -----         \n",
      " 0   id         202607 non-null  object        \n",
      " 1   call_date  202607 non-null  datetime64[ns]\n",
      " 2   duration   202607 non-null  int32         \n",
      " 3   user_id    202607 non-null  object        \n",
      "dtypes: datetime64[ns](1), int32(1), object(2)\n",
      "memory usage: 5.4+ MB\n",
      "None\n",
      "<class 'pandas.core.frame.DataFrame'>\n",
      "RangeIndex: 149396 entries, 0 to 149395\n",
      "Data columns (total 4 columns):\n",
      " #   Column        Non-Null Count   Dtype         \n",
      "---  ------        --------------   -----         \n",
      " 0   id            149396 non-null  object        \n",
      " 1   mb_used       149396 non-null  float64       \n",
      " 2   session_date  149396 non-null  datetime64[ns]\n",
      " 3   user_id       149396 non-null  object        \n",
      "dtypes: datetime64[ns](1), float64(1), object(2)\n",
      "memory usage: 4.6+ MB\n",
      "None\n",
      "<class 'pandas.core.frame.DataFrame'>\n",
      "RangeIndex: 123036 entries, 0 to 123035\n",
      "Data columns (total 3 columns):\n",
      " #   Column        Non-Null Count   Dtype         \n",
      "---  ------        --------------   -----         \n",
      " 0   id            123036 non-null  object        \n",
      " 1   message_date  123036 non-null  datetime64[ns]\n",
      " 2   user_id       123036 non-null  object        \n",
      "dtypes: datetime64[ns](1), object(2)\n",
      "memory usage: 2.8+ MB\n",
      "None\n",
      "<class 'pandas.core.frame.DataFrame'>\n",
      "RangeIndex: 500 entries, 0 to 499\n",
      "Data columns (total 8 columns):\n",
      " #   Column       Non-Null Count  Dtype         \n",
      "---  ------       --------------  -----         \n",
      " 0   user_id      500 non-null    object        \n",
      " 1   age          500 non-null    int64         \n",
      " 2   churn_date   38 non-null     datetime64[ns]\n",
      " 3   city         500 non-null    object        \n",
      " 4   first_name   500 non-null    object        \n",
      " 5   last_name    500 non-null    object        \n",
      " 6   reg_date     500 non-null    datetime64[ns]\n",
      " 7   tariff_name  500 non-null    object        \n",
      "dtypes: datetime64[ns](2), int64(1), object(5)\n",
      "memory usage: 31.4+ KB\n",
      "None\n"
     ]
    },
    {
     "data": {
      "text/html": [
       "<div>\n",
       "<style scoped>\n",
       "    .dataframe tbody tr th:only-of-type {\n",
       "        vertical-align: middle;\n",
       "    }\n",
       "\n",
       "    .dataframe tbody tr th {\n",
       "        vertical-align: top;\n",
       "    }\n",
       "\n",
       "    .dataframe thead th {\n",
       "        text-align: right;\n",
       "    }\n",
       "</style>\n",
       "<table border=\"1\" class=\"dataframe\">\n",
       "  <thead>\n",
       "    <tr style=\"text-align: right;\">\n",
       "      <th></th>\n",
       "      <th>id</th>\n",
       "      <th>call_date</th>\n",
       "      <th>duration</th>\n",
       "      <th>user_id</th>\n",
       "    </tr>\n",
       "  </thead>\n",
       "  <tbody>\n",
       "    <tr>\n",
       "      <th>0</th>\n",
       "      <td>1000_0</td>\n",
       "      <td>2018-07-25</td>\n",
       "      <td>0</td>\n",
       "      <td>1000</td>\n",
       "    </tr>\n",
       "    <tr>\n",
       "      <th>1</th>\n",
       "      <td>1000_1</td>\n",
       "      <td>2018-08-17</td>\n",
       "      <td>0</td>\n",
       "      <td>1000</td>\n",
       "    </tr>\n",
       "    <tr>\n",
       "      <th>2</th>\n",
       "      <td>1000_2</td>\n",
       "      <td>2018-06-11</td>\n",
       "      <td>3</td>\n",
       "      <td>1000</td>\n",
       "    </tr>\n",
       "    <tr>\n",
       "      <th>3</th>\n",
       "      <td>1000_3</td>\n",
       "      <td>2018-09-21</td>\n",
       "      <td>14</td>\n",
       "      <td>1000</td>\n",
       "    </tr>\n",
       "    <tr>\n",
       "      <th>4</th>\n",
       "      <td>1000_4</td>\n",
       "      <td>2018-12-15</td>\n",
       "      <td>6</td>\n",
       "      <td>1000</td>\n",
       "    </tr>\n",
       "    <tr>\n",
       "      <th>5</th>\n",
       "      <td>1000_5</td>\n",
       "      <td>2018-11-02</td>\n",
       "      <td>0</td>\n",
       "      <td>1000</td>\n",
       "    </tr>\n",
       "    <tr>\n",
       "      <th>6</th>\n",
       "      <td>1000_6</td>\n",
       "      <td>2018-10-18</td>\n",
       "      <td>0</td>\n",
       "      <td>1000</td>\n",
       "    </tr>\n",
       "    <tr>\n",
       "      <th>7</th>\n",
       "      <td>1000_7</td>\n",
       "      <td>2018-08-22</td>\n",
       "      <td>19</td>\n",
       "      <td>1000</td>\n",
       "    </tr>\n",
       "    <tr>\n",
       "      <th>8</th>\n",
       "      <td>1000_8</td>\n",
       "      <td>2018-09-15</td>\n",
       "      <td>19</td>\n",
       "      <td>1000</td>\n",
       "    </tr>\n",
       "    <tr>\n",
       "      <th>9</th>\n",
       "      <td>1000_9</td>\n",
       "      <td>2018-08-15</td>\n",
       "      <td>0</td>\n",
       "      <td>1000</td>\n",
       "    </tr>\n",
       "    <tr>\n",
       "      <th>10</th>\n",
       "      <td>1000_10</td>\n",
       "      <td>2018-08-22</td>\n",
       "      <td>6</td>\n",
       "      <td>1000</td>\n",
       "    </tr>\n",
       "    <tr>\n",
       "      <th>11</th>\n",
       "      <td>1000_11</td>\n",
       "      <td>2018-05-28</td>\n",
       "      <td>19</td>\n",
       "      <td>1000</td>\n",
       "    </tr>\n",
       "    <tr>\n",
       "      <th>12</th>\n",
       "      <td>1000_12</td>\n",
       "      <td>2018-07-05</td>\n",
       "      <td>3</td>\n",
       "      <td>1000</td>\n",
       "    </tr>\n",
       "    <tr>\n",
       "      <th>13</th>\n",
       "      <td>1000_13</td>\n",
       "      <td>2018-09-29</td>\n",
       "      <td>8</td>\n",
       "      <td>1000</td>\n",
       "    </tr>\n",
       "    <tr>\n",
       "      <th>14</th>\n",
       "      <td>1000_14</td>\n",
       "      <td>2018-12-11</td>\n",
       "      <td>10</td>\n",
       "      <td>1000</td>\n",
       "    </tr>\n",
       "    <tr>\n",
       "      <th>15</th>\n",
       "      <td>1000_15</td>\n",
       "      <td>2018-07-27</td>\n",
       "      <td>10</td>\n",
       "      <td>1000</td>\n",
       "    </tr>\n",
       "    <tr>\n",
       "      <th>16</th>\n",
       "      <td>1000_16</td>\n",
       "      <td>2018-08-11</td>\n",
       "      <td>5</td>\n",
       "      <td>1000</td>\n",
       "    </tr>\n",
       "    <tr>\n",
       "      <th>17</th>\n",
       "      <td>1000_17</td>\n",
       "      <td>2018-08-02</td>\n",
       "      <td>13</td>\n",
       "      <td>1000</td>\n",
       "    </tr>\n",
       "    <tr>\n",
       "      <th>18</th>\n",
       "      <td>1000_18</td>\n",
       "      <td>2018-06-15</td>\n",
       "      <td>5</td>\n",
       "      <td>1000</td>\n",
       "    </tr>\n",
       "    <tr>\n",
       "      <th>19</th>\n",
       "      <td>1000_19</td>\n",
       "      <td>2018-11-02</td>\n",
       "      <td>16</td>\n",
       "      <td>1000</td>\n",
       "    </tr>\n",
       "  </tbody>\n",
       "</table>\n",
       "</div>"
      ],
      "text/plain": [
       "         id  call_date  duration user_id\n",
       "0    1000_0 2018-07-25         0    1000\n",
       "1    1000_1 2018-08-17         0    1000\n",
       "2    1000_2 2018-06-11         3    1000\n",
       "3    1000_3 2018-09-21        14    1000\n",
       "4    1000_4 2018-12-15         6    1000\n",
       "5    1000_5 2018-11-02         0    1000\n",
       "6    1000_6 2018-10-18         0    1000\n",
       "7    1000_7 2018-08-22        19    1000\n",
       "8    1000_8 2018-09-15        19    1000\n",
       "9    1000_9 2018-08-15         0    1000\n",
       "10  1000_10 2018-08-22         6    1000\n",
       "11  1000_11 2018-05-28        19    1000\n",
       "12  1000_12 2018-07-05         3    1000\n",
       "13  1000_13 2018-09-29         8    1000\n",
       "14  1000_14 2018-12-11        10    1000\n",
       "15  1000_15 2018-07-27        10    1000\n",
       "16  1000_16 2018-08-11         5    1000\n",
       "17  1000_17 2018-08-02        13    1000\n",
       "18  1000_18 2018-06-15         5    1000\n",
       "19  1000_19 2018-11-02        16    1000"
      ]
     },
     "execution_count": 14,
     "metadata": {},
     "output_type": "execute_result"
    }
   ],
   "source": [
    "print(calls.info())\n",
    "print(internet.info())\n",
    "print(messages.info())\n",
    "print(users.info())\n",
    "calls.head(20)"
   ]
  },
  {
   "cell_type": "markdown",
   "metadata": {},
   "source": [
    "### Расчеты для каждого пользователя"
   ]
  },
  {
   "cell_type": "code",
   "execution_count": 15,
   "metadata": {
    "scrolled": true
   },
   "outputs": [
    {
     "data": {
      "text/html": [
       "<div>\n",
       "<style scoped>\n",
       "    .dataframe tbody tr th:only-of-type {\n",
       "        vertical-align: middle;\n",
       "    }\n",
       "\n",
       "    .dataframe tbody tr th {\n",
       "        vertical-align: top;\n",
       "    }\n",
       "\n",
       "    .dataframe thead th {\n",
       "        text-align: right;\n",
       "    }\n",
       "</style>\n",
       "<table border=\"1\" class=\"dataframe\">\n",
       "  <thead>\n",
       "    <tr style=\"text-align: right;\">\n",
       "      <th></th>\n",
       "      <th>user_id</th>\n",
       "      <th>month</th>\n",
       "      <th>count_call</th>\n",
       "      <th>sum_duration</th>\n",
       "    </tr>\n",
       "  </thead>\n",
       "  <tbody>\n",
       "    <tr>\n",
       "      <th>0</th>\n",
       "      <td>1000</td>\n",
       "      <td>5</td>\n",
       "      <td>22</td>\n",
       "      <td>159</td>\n",
       "    </tr>\n",
       "    <tr>\n",
       "      <th>1</th>\n",
       "      <td>1000</td>\n",
       "      <td>6</td>\n",
       "      <td>43</td>\n",
       "      <td>172</td>\n",
       "    </tr>\n",
       "    <tr>\n",
       "      <th>2</th>\n",
       "      <td>1000</td>\n",
       "      <td>7</td>\n",
       "      <td>47</td>\n",
       "      <td>340</td>\n",
       "    </tr>\n",
       "    <tr>\n",
       "      <th>3</th>\n",
       "      <td>1000</td>\n",
       "      <td>8</td>\n",
       "      <td>52</td>\n",
       "      <td>408</td>\n",
       "    </tr>\n",
       "    <tr>\n",
       "      <th>4</th>\n",
       "      <td>1000</td>\n",
       "      <td>9</td>\n",
       "      <td>58</td>\n",
       "      <td>466</td>\n",
       "    </tr>\n",
       "    <tr>\n",
       "      <th>5</th>\n",
       "      <td>1000</td>\n",
       "      <td>10</td>\n",
       "      <td>57</td>\n",
       "      <td>350</td>\n",
       "    </tr>\n",
       "    <tr>\n",
       "      <th>6</th>\n",
       "      <td>1000</td>\n",
       "      <td>11</td>\n",
       "      <td>43</td>\n",
       "      <td>338</td>\n",
       "    </tr>\n",
       "    <tr>\n",
       "      <th>7</th>\n",
       "      <td>1000</td>\n",
       "      <td>12</td>\n",
       "      <td>46</td>\n",
       "      <td>333</td>\n",
       "    </tr>\n",
       "    <tr>\n",
       "      <th>8</th>\n",
       "      <td>1001</td>\n",
       "      <td>11</td>\n",
       "      <td>59</td>\n",
       "      <td>430</td>\n",
       "    </tr>\n",
       "    <tr>\n",
       "      <th>9</th>\n",
       "      <td>1001</td>\n",
       "      <td>12</td>\n",
       "      <td>63</td>\n",
       "      <td>414</td>\n",
       "    </tr>\n",
       "  </tbody>\n",
       "</table>\n",
       "</div>"
      ],
      "text/plain": [
       "   user_id  month  count_call  sum_duration\n",
       "0     1000      5          22           159\n",
       "1     1000      6          43           172\n",
       "2     1000      7          47           340\n",
       "3     1000      8          52           408\n",
       "4     1000      9          58           466\n",
       "5     1000     10          57           350\n",
       "6     1000     11          43           338\n",
       "7     1000     12          46           333\n",
       "8     1001     11          59           430\n",
       "9     1001     12          63           414"
      ]
     },
     "execution_count": 15,
     "metadata": {},
     "output_type": "execute_result"
    }
   ],
   "source": [
    "#расчет количества и длительности звонков по месяцам\n",
    "calls['month'] = calls['call_date'].dt.month #добавляю столбец звонков по месяцам\n",
    "calls_user_id = calls.pivot_table(index=['user_id', 'month'], #количество и длительность звонков user_id по месяцам\n",
    "                                  values='duration', aggfunc=['count', 'sum']).reset_index() \n",
    "\n",
    "calls_user_id.columns = ['user_id', 'month', 'count_call', 'sum_duration']\n",
    "calls_user_id.head(10)\n",
    "#calls['month'].value_counts()"
   ]
  },
  {
   "cell_type": "code",
   "execution_count": 16,
   "metadata": {
    "scrolled": false
   },
   "outputs": [
    {
     "data": {
      "text/html": [
       "<div>\n",
       "<style scoped>\n",
       "    .dataframe tbody tr th:only-of-type {\n",
       "        vertical-align: middle;\n",
       "    }\n",
       "\n",
       "    .dataframe tbody tr th {\n",
       "        vertical-align: top;\n",
       "    }\n",
       "\n",
       "    .dataframe thead th {\n",
       "        text-align: right;\n",
       "    }\n",
       "</style>\n",
       "<table border=\"1\" class=\"dataframe\">\n",
       "  <thead>\n",
       "    <tr style=\"text-align: right;\">\n",
       "      <th></th>\n",
       "      <th>user_id</th>\n",
       "      <th>month</th>\n",
       "      <th>count_messages</th>\n",
       "    </tr>\n",
       "  </thead>\n",
       "  <tbody>\n",
       "    <tr>\n",
       "      <th>0</th>\n",
       "      <td>1000</td>\n",
       "      <td>5</td>\n",
       "      <td>22</td>\n",
       "    </tr>\n",
       "    <tr>\n",
       "      <th>1</th>\n",
       "      <td>1000</td>\n",
       "      <td>6</td>\n",
       "      <td>60</td>\n",
       "    </tr>\n",
       "    <tr>\n",
       "      <th>2</th>\n",
       "      <td>1000</td>\n",
       "      <td>7</td>\n",
       "      <td>75</td>\n",
       "    </tr>\n",
       "    <tr>\n",
       "      <th>3</th>\n",
       "      <td>1000</td>\n",
       "      <td>8</td>\n",
       "      <td>81</td>\n",
       "    </tr>\n",
       "    <tr>\n",
       "      <th>4</th>\n",
       "      <td>1000</td>\n",
       "      <td>9</td>\n",
       "      <td>57</td>\n",
       "    </tr>\n",
       "    <tr>\n",
       "      <th>5</th>\n",
       "      <td>1000</td>\n",
       "      <td>10</td>\n",
       "      <td>73</td>\n",
       "    </tr>\n",
       "    <tr>\n",
       "      <th>6</th>\n",
       "      <td>1000</td>\n",
       "      <td>11</td>\n",
       "      <td>58</td>\n",
       "    </tr>\n",
       "    <tr>\n",
       "      <th>7</th>\n",
       "      <td>1000</td>\n",
       "      <td>12</td>\n",
       "      <td>70</td>\n",
       "    </tr>\n",
       "    <tr>\n",
       "      <th>8</th>\n",
       "      <td>1002</td>\n",
       "      <td>6</td>\n",
       "      <td>4</td>\n",
       "    </tr>\n",
       "    <tr>\n",
       "      <th>9</th>\n",
       "      <td>1002</td>\n",
       "      <td>7</td>\n",
       "      <td>11</td>\n",
       "    </tr>\n",
       "  </tbody>\n",
       "</table>\n",
       "</div>"
      ],
      "text/plain": [
       "   user_id  month  count_messages\n",
       "0     1000      5              22\n",
       "1     1000      6              60\n",
       "2     1000      7              75\n",
       "3     1000      8              81\n",
       "4     1000      9              57\n",
       "5     1000     10              73\n",
       "6     1000     11              58\n",
       "7     1000     12              70\n",
       "8     1002      6               4\n",
       "9     1002      7              11"
      ]
     },
     "execution_count": 16,
     "metadata": {},
     "output_type": "execute_result"
    }
   ],
   "source": [
    "#количество отправленных сообщений по месяцам\n",
    "messages['month'] = messages['message_date'].dt.month #добавляю столбец сообщений по месяцам\n",
    "messages_user_id = messages.pivot_table(index=['user_id', 'month'], #количество и длительность звонков user_id по месяцам\n",
    "                                  values='id', aggfunc=['count']).reset_index()\n",
    "\n",
    "messages_user_id.columns = ['user_id', 'month', 'count_messages'] #меняю название столбцов\n",
    "messages_user_id.head(10)\n",
    "#messages['month'].value_counts()"
   ]
  },
  {
   "cell_type": "code",
   "execution_count": 17,
   "metadata": {
    "scrolled": true
   },
   "outputs": [
    {
     "name": "stdout",
     "output_type": "stream",
     "text": [
      "<class 'pandas.core.frame.DataFrame'>\n",
      "RangeIndex: 3203 entries, 0 to 3202\n",
      "Data columns (total 4 columns):\n",
      " #   Column          Non-Null Count  Dtype  \n",
      "---  ------          --------------  -----  \n",
      " 0   user_id         3203 non-null   int64  \n",
      " 1   month           3203 non-null   int64  \n",
      " 2   sum_session_mb  3203 non-null   float64\n",
      " 3   sum_session_gb  3203 non-null   int32  \n",
      "dtypes: float64(1), int32(1), int64(2)\n",
      "memory usage: 87.7 KB\n"
     ]
    },
    {
     "data": {
      "text/html": [
       "<div>\n",
       "<style scoped>\n",
       "    .dataframe tbody tr th:only-of-type {\n",
       "        vertical-align: middle;\n",
       "    }\n",
       "\n",
       "    .dataframe tbody tr th {\n",
       "        vertical-align: top;\n",
       "    }\n",
       "\n",
       "    .dataframe thead th {\n",
       "        text-align: right;\n",
       "    }\n",
       "</style>\n",
       "<table border=\"1\" class=\"dataframe\">\n",
       "  <thead>\n",
       "    <tr style=\"text-align: right;\">\n",
       "      <th></th>\n",
       "      <th>user_id</th>\n",
       "      <th>month</th>\n",
       "      <th>sum_session_mb</th>\n",
       "      <th>sum_session_gb</th>\n",
       "    </tr>\n",
       "  </thead>\n",
       "  <tbody>\n",
       "    <tr>\n",
       "      <th>0</th>\n",
       "      <td>1000</td>\n",
       "      <td>5</td>\n",
       "      <td>2253.49</td>\n",
       "      <td>3</td>\n",
       "    </tr>\n",
       "    <tr>\n",
       "      <th>1</th>\n",
       "      <td>1000</td>\n",
       "      <td>6</td>\n",
       "      <td>23233.77</td>\n",
       "      <td>23</td>\n",
       "    </tr>\n",
       "    <tr>\n",
       "      <th>2</th>\n",
       "      <td>1000</td>\n",
       "      <td>7</td>\n",
       "      <td>14003.64</td>\n",
       "      <td>14</td>\n",
       "    </tr>\n",
       "    <tr>\n",
       "      <th>3</th>\n",
       "      <td>1000</td>\n",
       "      <td>8</td>\n",
       "      <td>14055.93</td>\n",
       "      <td>14</td>\n",
       "    </tr>\n",
       "    <tr>\n",
       "      <th>4</th>\n",
       "      <td>1000</td>\n",
       "      <td>9</td>\n",
       "      <td>14568.91</td>\n",
       "      <td>15</td>\n",
       "    </tr>\n",
       "    <tr>\n",
       "      <th>5</th>\n",
       "      <td>1000</td>\n",
       "      <td>10</td>\n",
       "      <td>14702.49</td>\n",
       "      <td>15</td>\n",
       "    </tr>\n",
       "    <tr>\n",
       "      <th>6</th>\n",
       "      <td>1000</td>\n",
       "      <td>11</td>\n",
       "      <td>14756.47</td>\n",
       "      <td>15</td>\n",
       "    </tr>\n",
       "    <tr>\n",
       "      <th>7</th>\n",
       "      <td>1000</td>\n",
       "      <td>12</td>\n",
       "      <td>9817.61</td>\n",
       "      <td>10</td>\n",
       "    </tr>\n",
       "    <tr>\n",
       "      <th>8</th>\n",
       "      <td>1001</td>\n",
       "      <td>11</td>\n",
       "      <td>18429.34</td>\n",
       "      <td>18</td>\n",
       "    </tr>\n",
       "    <tr>\n",
       "      <th>9</th>\n",
       "      <td>1001</td>\n",
       "      <td>12</td>\n",
       "      <td>14036.66</td>\n",
       "      <td>14</td>\n",
       "    </tr>\n",
       "  </tbody>\n",
       "</table>\n",
       "</div>"
      ],
      "text/plain": [
       "   user_id  month  sum_session_mb  sum_session_gb\n",
       "0     1000      5         2253.49               3\n",
       "1     1000      6        23233.77              23\n",
       "2     1000      7        14003.64              14\n",
       "3     1000      8        14055.93              14\n",
       "4     1000      9        14568.91              15\n",
       "5     1000     10        14702.49              15\n",
       "6     1000     11        14756.47              15\n",
       "7     1000     12         9817.61              10\n",
       "8     1001     11        18429.34              18\n",
       "9     1001     12        14036.66              14"
      ]
     },
     "execution_count": 17,
     "metadata": {},
     "output_type": "execute_result"
    }
   ],
   "source": [
    "#объем израсходованного интернет-трафика по месяцам\n",
    "internet['month'] = internet['session_date'].dt.month\n",
    "session_user_id = internet.pivot_table(index=['user_id', 'month'] #посчитал объем интернет-трафика за месяц в мб \n",
    "                                       , values='mb_used', aggfunc='sum').reset_index() \n",
    "session_user_id.columns = ['user_id', 'month', 'sum_session_mb']\n",
    "session_user_id['sum_session_gb'] = (session_user_id['sum_session_mb'] / \n",
    "                                     1024).apply(np.ceil).astype('int') #перевел в гб и по условию округлил в большую сторону \n",
    "\n",
    "session_user_id.info()\n",
    "session_user_id.head(10)\n",
    "\n",
    "#internet['month'].value_counts()"
   ]
  },
  {
   "cell_type": "code",
   "execution_count": 18,
   "metadata": {
    "scrolled": true
   },
   "outputs": [
    {
     "name": "stdout",
     "output_type": "stream",
     "text": [
      "<class 'pandas.core.frame.DataFrame'>\n",
      "Int64Index: 3214 entries, 0 to 3213\n",
      "Data columns (total 21 columns):\n",
      " #   Column                 Non-Null Count  Dtype         \n",
      "---  ------                 --------------  -----         \n",
      " 0   user_id                3214 non-null   int32         \n",
      " 1   month                  3214 non-null   int32         \n",
      " 2   count_call             3214 non-null   int32         \n",
      " 3   sum_duration           3214 non-null   int32         \n",
      " 4   count_messages         3214 non-null   int32         \n",
      " 5   sum_session_mb         3214 non-null   int32         \n",
      " 6   sum_session_gb         3214 non-null   int32         \n",
      " 7   age                    3214 non-null   int64         \n",
      " 8   churn_date             187 non-null    datetime64[ns]\n",
      " 9   city                   3214 non-null   object        \n",
      " 10  first_name             3214 non-null   object        \n",
      " 11  last_name              3214 non-null   object        \n",
      " 12  reg_date               3214 non-null   datetime64[ns]\n",
      " 13  tariff_name            3214 non-null   object        \n",
      " 14  messages_included      3214 non-null   int64         \n",
      " 15  mb_per_month_included  3214 non-null   int64         \n",
      " 16  minutes_included       3214 non-null   int64         \n",
      " 17  rub_monthly_fee        3214 non-null   int64         \n",
      " 18  rub_per_gb             3214 non-null   int64         \n",
      " 19  rub_per_message        3214 non-null   int64         \n",
      " 20  rub_per_minute         3214 non-null   int64         \n",
      "dtypes: datetime64[ns](2), int32(7), int64(8), object(4)\n",
      "memory usage: 464.5+ KB\n"
     ]
    },
    {
     "data": {
      "text/html": [
       "<div>\n",
       "<style scoped>\n",
       "    .dataframe tbody tr th:only-of-type {\n",
       "        vertical-align: middle;\n",
       "    }\n",
       "\n",
       "    .dataframe tbody tr th {\n",
       "        vertical-align: top;\n",
       "    }\n",
       "\n",
       "    .dataframe thead th {\n",
       "        text-align: right;\n",
       "    }\n",
       "</style>\n",
       "<table border=\"1\" class=\"dataframe\">\n",
       "  <thead>\n",
       "    <tr style=\"text-align: right;\">\n",
       "      <th></th>\n",
       "      <th>user_id</th>\n",
       "      <th>month</th>\n",
       "      <th>count_call</th>\n",
       "      <th>sum_duration</th>\n",
       "      <th>count_messages</th>\n",
       "      <th>sum_session_mb</th>\n",
       "      <th>sum_session_gb</th>\n",
       "      <th>age</th>\n",
       "      <th>churn_date</th>\n",
       "      <th>city</th>\n",
       "      <th>first_name</th>\n",
       "      <th>last_name</th>\n",
       "      <th>reg_date</th>\n",
       "      <th>tariff_name</th>\n",
       "      <th>messages_included</th>\n",
       "      <th>mb_per_month_included</th>\n",
       "      <th>minutes_included</th>\n",
       "      <th>rub_monthly_fee</th>\n",
       "      <th>rub_per_gb</th>\n",
       "      <th>rub_per_message</th>\n",
       "      <th>rub_per_minute</th>\n",
       "    </tr>\n",
       "  </thead>\n",
       "  <tbody>\n",
       "    <tr>\n",
       "      <th>0</th>\n",
       "      <td>1000</td>\n",
       "      <td>5</td>\n",
       "      <td>22</td>\n",
       "      <td>159</td>\n",
       "      <td>22</td>\n",
       "      <td>2253</td>\n",
       "      <td>3</td>\n",
       "      <td>52</td>\n",
       "      <td>NaT</td>\n",
       "      <td>Краснодар</td>\n",
       "      <td>Рафаил</td>\n",
       "      <td>Верещагин</td>\n",
       "      <td>2018-05-25</td>\n",
       "      <td>ultra</td>\n",
       "      <td>1000</td>\n",
       "      <td>30720</td>\n",
       "      <td>3000</td>\n",
       "      <td>1950</td>\n",
       "      <td>150</td>\n",
       "      <td>1</td>\n",
       "      <td>1</td>\n",
       "    </tr>\n",
       "    <tr>\n",
       "      <th>1</th>\n",
       "      <td>1000</td>\n",
       "      <td>6</td>\n",
       "      <td>43</td>\n",
       "      <td>172</td>\n",
       "      <td>60</td>\n",
       "      <td>23233</td>\n",
       "      <td>23</td>\n",
       "      <td>52</td>\n",
       "      <td>NaT</td>\n",
       "      <td>Краснодар</td>\n",
       "      <td>Рафаил</td>\n",
       "      <td>Верещагин</td>\n",
       "      <td>2018-05-25</td>\n",
       "      <td>ultra</td>\n",
       "      <td>1000</td>\n",
       "      <td>30720</td>\n",
       "      <td>3000</td>\n",
       "      <td>1950</td>\n",
       "      <td>150</td>\n",
       "      <td>1</td>\n",
       "      <td>1</td>\n",
       "    </tr>\n",
       "    <tr>\n",
       "      <th>2</th>\n",
       "      <td>1000</td>\n",
       "      <td>7</td>\n",
       "      <td>47</td>\n",
       "      <td>340</td>\n",
       "      <td>75</td>\n",
       "      <td>14003</td>\n",
       "      <td>14</td>\n",
       "      <td>52</td>\n",
       "      <td>NaT</td>\n",
       "      <td>Краснодар</td>\n",
       "      <td>Рафаил</td>\n",
       "      <td>Верещагин</td>\n",
       "      <td>2018-05-25</td>\n",
       "      <td>ultra</td>\n",
       "      <td>1000</td>\n",
       "      <td>30720</td>\n",
       "      <td>3000</td>\n",
       "      <td>1950</td>\n",
       "      <td>150</td>\n",
       "      <td>1</td>\n",
       "      <td>1</td>\n",
       "    </tr>\n",
       "    <tr>\n",
       "      <th>3</th>\n",
       "      <td>1000</td>\n",
       "      <td>8</td>\n",
       "      <td>52</td>\n",
       "      <td>408</td>\n",
       "      <td>81</td>\n",
       "      <td>14055</td>\n",
       "      <td>14</td>\n",
       "      <td>52</td>\n",
       "      <td>NaT</td>\n",
       "      <td>Краснодар</td>\n",
       "      <td>Рафаил</td>\n",
       "      <td>Верещагин</td>\n",
       "      <td>2018-05-25</td>\n",
       "      <td>ultra</td>\n",
       "      <td>1000</td>\n",
       "      <td>30720</td>\n",
       "      <td>3000</td>\n",
       "      <td>1950</td>\n",
       "      <td>150</td>\n",
       "      <td>1</td>\n",
       "      <td>1</td>\n",
       "    </tr>\n",
       "    <tr>\n",
       "      <th>4</th>\n",
       "      <td>1000</td>\n",
       "      <td>9</td>\n",
       "      <td>58</td>\n",
       "      <td>466</td>\n",
       "      <td>57</td>\n",
       "      <td>14568</td>\n",
       "      <td>15</td>\n",
       "      <td>52</td>\n",
       "      <td>NaT</td>\n",
       "      <td>Краснодар</td>\n",
       "      <td>Рафаил</td>\n",
       "      <td>Верещагин</td>\n",
       "      <td>2018-05-25</td>\n",
       "      <td>ultra</td>\n",
       "      <td>1000</td>\n",
       "      <td>30720</td>\n",
       "      <td>3000</td>\n",
       "      <td>1950</td>\n",
       "      <td>150</td>\n",
       "      <td>1</td>\n",
       "      <td>1</td>\n",
       "    </tr>\n",
       "    <tr>\n",
       "      <th>5</th>\n",
       "      <td>1000</td>\n",
       "      <td>10</td>\n",
       "      <td>57</td>\n",
       "      <td>350</td>\n",
       "      <td>73</td>\n",
       "      <td>14702</td>\n",
       "      <td>15</td>\n",
       "      <td>52</td>\n",
       "      <td>NaT</td>\n",
       "      <td>Краснодар</td>\n",
       "      <td>Рафаил</td>\n",
       "      <td>Верещагин</td>\n",
       "      <td>2018-05-25</td>\n",
       "      <td>ultra</td>\n",
       "      <td>1000</td>\n",
       "      <td>30720</td>\n",
       "      <td>3000</td>\n",
       "      <td>1950</td>\n",
       "      <td>150</td>\n",
       "      <td>1</td>\n",
       "      <td>1</td>\n",
       "    </tr>\n",
       "    <tr>\n",
       "      <th>6</th>\n",
       "      <td>1000</td>\n",
       "      <td>11</td>\n",
       "      <td>43</td>\n",
       "      <td>338</td>\n",
       "      <td>58</td>\n",
       "      <td>14756</td>\n",
       "      <td>15</td>\n",
       "      <td>52</td>\n",
       "      <td>NaT</td>\n",
       "      <td>Краснодар</td>\n",
       "      <td>Рафаил</td>\n",
       "      <td>Верещагин</td>\n",
       "      <td>2018-05-25</td>\n",
       "      <td>ultra</td>\n",
       "      <td>1000</td>\n",
       "      <td>30720</td>\n",
       "      <td>3000</td>\n",
       "      <td>1950</td>\n",
       "      <td>150</td>\n",
       "      <td>1</td>\n",
       "      <td>1</td>\n",
       "    </tr>\n",
       "    <tr>\n",
       "      <th>7</th>\n",
       "      <td>1000</td>\n",
       "      <td>12</td>\n",
       "      <td>46</td>\n",
       "      <td>333</td>\n",
       "      <td>70</td>\n",
       "      <td>9817</td>\n",
       "      <td>10</td>\n",
       "      <td>52</td>\n",
       "      <td>NaT</td>\n",
       "      <td>Краснодар</td>\n",
       "      <td>Рафаил</td>\n",
       "      <td>Верещагин</td>\n",
       "      <td>2018-05-25</td>\n",
       "      <td>ultra</td>\n",
       "      <td>1000</td>\n",
       "      <td>30720</td>\n",
       "      <td>3000</td>\n",
       "      <td>1950</td>\n",
       "      <td>150</td>\n",
       "      <td>1</td>\n",
       "      <td>1</td>\n",
       "    </tr>\n",
       "    <tr>\n",
       "      <th>8</th>\n",
       "      <td>1001</td>\n",
       "      <td>11</td>\n",
       "      <td>59</td>\n",
       "      <td>430</td>\n",
       "      <td>0</td>\n",
       "      <td>18429</td>\n",
       "      <td>18</td>\n",
       "      <td>41</td>\n",
       "      <td>NaT</td>\n",
       "      <td>Москва</td>\n",
       "      <td>Иван</td>\n",
       "      <td>Ежов</td>\n",
       "      <td>2018-11-01</td>\n",
       "      <td>smart</td>\n",
       "      <td>50</td>\n",
       "      <td>15360</td>\n",
       "      <td>500</td>\n",
       "      <td>550</td>\n",
       "      <td>200</td>\n",
       "      <td>3</td>\n",
       "      <td>3</td>\n",
       "    </tr>\n",
       "    <tr>\n",
       "      <th>9</th>\n",
       "      <td>1001</td>\n",
       "      <td>12</td>\n",
       "      <td>63</td>\n",
       "      <td>414</td>\n",
       "      <td>0</td>\n",
       "      <td>14036</td>\n",
       "      <td>14</td>\n",
       "      <td>41</td>\n",
       "      <td>NaT</td>\n",
       "      <td>Москва</td>\n",
       "      <td>Иван</td>\n",
       "      <td>Ежов</td>\n",
       "      <td>2018-11-01</td>\n",
       "      <td>smart</td>\n",
       "      <td>50</td>\n",
       "      <td>15360</td>\n",
       "      <td>500</td>\n",
       "      <td>550</td>\n",
       "      <td>200</td>\n",
       "      <td>3</td>\n",
       "      <td>3</td>\n",
       "    </tr>\n",
       "  </tbody>\n",
       "</table>\n",
       "</div>"
      ],
      "text/plain": [
       "   user_id  month  count_call  sum_duration  count_messages  sum_session_mb  \\\n",
       "0     1000      5          22           159              22            2253   \n",
       "1     1000      6          43           172              60           23233   \n",
       "2     1000      7          47           340              75           14003   \n",
       "3     1000      8          52           408              81           14055   \n",
       "4     1000      9          58           466              57           14568   \n",
       "5     1000     10          57           350              73           14702   \n",
       "6     1000     11          43           338              58           14756   \n",
       "7     1000     12          46           333              70            9817   \n",
       "8     1001     11          59           430               0           18429   \n",
       "9     1001     12          63           414               0           14036   \n",
       "\n",
       "   sum_session_gb  age churn_date       city first_name  last_name   reg_date  \\\n",
       "0               3   52        NaT  Краснодар     Рафаил  Верещагин 2018-05-25   \n",
       "1              23   52        NaT  Краснодар     Рафаил  Верещагин 2018-05-25   \n",
       "2              14   52        NaT  Краснодар     Рафаил  Верещагин 2018-05-25   \n",
       "3              14   52        NaT  Краснодар     Рафаил  Верещагин 2018-05-25   \n",
       "4              15   52        NaT  Краснодар     Рафаил  Верещагин 2018-05-25   \n",
       "5              15   52        NaT  Краснодар     Рафаил  Верещагин 2018-05-25   \n",
       "6              15   52        NaT  Краснодар     Рафаил  Верещагин 2018-05-25   \n",
       "7              10   52        NaT  Краснодар     Рафаил  Верещагин 2018-05-25   \n",
       "8              18   41        NaT     Москва       Иван       Ежов 2018-11-01   \n",
       "9              14   41        NaT     Москва       Иван       Ежов 2018-11-01   \n",
       "\n",
       "  tariff_name  messages_included  mb_per_month_included  minutes_included  \\\n",
       "0       ultra               1000                  30720              3000   \n",
       "1       ultra               1000                  30720              3000   \n",
       "2       ultra               1000                  30720              3000   \n",
       "3       ultra               1000                  30720              3000   \n",
       "4       ultra               1000                  30720              3000   \n",
       "5       ultra               1000                  30720              3000   \n",
       "6       ultra               1000                  30720              3000   \n",
       "7       ultra               1000                  30720              3000   \n",
       "8       smart                 50                  15360               500   \n",
       "9       smart                 50                  15360               500   \n",
       "\n",
       "   rub_monthly_fee  rub_per_gb  rub_per_message  rub_per_minute  \n",
       "0             1950         150                1               1  \n",
       "1             1950         150                1               1  \n",
       "2             1950         150                1               1  \n",
       "3             1950         150                1               1  \n",
       "4             1950         150                1               1  \n",
       "5             1950         150                1               1  \n",
       "6             1950         150                1               1  \n",
       "7             1950         150                1               1  \n",
       "8              550         200                3               3  \n",
       "9              550         200                3               3  "
      ]
     },
     "execution_count": 18,
     "metadata": {},
     "output_type": "execute_result"
    }
   ],
   "source": [
    "#объединение таблиц \n",
    "df1 = calls_user_id.merge(messages_user_id, \n",
    "                          on=['user_id', 'month'], how='outer') #объединение таблиц calls_user_id и messages_user_id\n",
    "\n",
    "df2 = df1.merge(session_user_id, \n",
    "                on=['user_id', 'month'], how='outer') #объединение таблиц df1 и session_user_id \n",
    "\n",
    "df3 = users.merge(tariffs, on='tariff_name', how='outer') #объединение таблиц users и tariffs\n",
    "\n",
    "final_df = df2.merge(df3, on='user_id', how='inner') #итоговая таблица со всеми данными и вычислениями\n",
    "\n",
    "columns = ['month', 'count_call', 'sum_duration', 'count_messages', 'sum_session_mb', 'sum_session_gb']\n",
    "for column in columns: #заполнил пропуски нулями\n",
    "    final_df[column] = final_df[column].fillna(0)\n",
    "    final_df[column] = final_df[column].astype('int')\n",
    "    \n",
    "final_df['user_id'] = final_df['user_id'].astype('int')\n",
    "\n",
    "final_df.info()\n",
    "final_df.head(10)"
   ]
  },
  {
   "cell_type": "code",
   "execution_count": 19,
   "metadata": {
    "scrolled": true
   },
   "outputs": [],
   "source": [
    "#помесячная выручка с каждого пользователя\n",
    "\n",
    "def revenue(row):\n",
    "    revenue_by_month_sum = 0\n",
    "    if row['minutes_included'] < row['sum_duration']:\n",
    "        revenue_by_month_sum += (row['sum_duration'] - row['minutes_included']) * row['rub_per_minute']\n",
    "    if row['messages_included'] < row['count_messages']:\n",
    "        revenue_by_month_sum += (row['count_messages'] - row['messages_included']) * row['rub_per_message'] \n",
    "    if (row['mb_per_month_included']/1024) < row['sum_session_gb']:\n",
    "        revenue_by_month_sum += (row['sum_session_gb'] - (row['mb_per_month_included']/1024)) * row['rub_per_gb']\n",
    "    revenue_by_month_sum += row['rub_monthly_fee']\n",
    "    return revenue_by_month_sum\n",
    "\n",
    "\n",
    "final_df['revenue_by_month'] = final_df.apply(revenue, axis=1)\n",
    "#final_df"
   ]
  },
  {
   "cell_type": "markdown",
   "metadata": {},
   "source": [
    "### Выводы\n",
    "- заменил тип данных в столбцах с датами на datetime64\n",
    "- тип данных user_id поменял на object, т.к. считаю, что это более уместно\n",
    "- удалил столбец \"Unnamed: 0\" в ДФ \"internet\"\n",
    "- округлил минуты в большую сторону и перевел в int\n",
    "- расчитал количество отправленных сообщений по месяцам по каждому пользователю\n",
    "- расчитал объем израсходованного интернет-трафика по месяцам по каждому пользователю\n",
    "- расчитал помесячную выручку с каждого пользователя"
   ]
  },
  {
   "cell_type": "markdown",
   "metadata": {},
   "source": [
    "## Анализ данных\n"
   ]
  },
  {
   "cell_type": "code",
   "execution_count": 20,
   "metadata": {
    "scrolled": true
   },
   "outputs": [],
   "source": [
    "#final_df.head(10)"
   ]
  },
  {
   "cell_type": "code",
   "execution_count": 21,
   "metadata": {
    "scrolled": true
   },
   "outputs": [
    {
     "data": {
      "text/html": [
       "<div>\n",
       "<style scoped>\n",
       "    .dataframe tbody tr th:only-of-type {\n",
       "        vertical-align: middle;\n",
       "    }\n",
       "\n",
       "    .dataframe tbody tr th {\n",
       "        vertical-align: top;\n",
       "    }\n",
       "\n",
       "    .dataframe thead th {\n",
       "        text-align: right;\n",
       "    }\n",
       "</style>\n",
       "<table border=\"1\" class=\"dataframe\">\n",
       "  <thead>\n",
       "    <tr style=\"text-align: right;\">\n",
       "      <th></th>\n",
       "      <th>tariff_name</th>\n",
       "      <th>month</th>\n",
       "      <th>sum_duration</th>\n",
       "    </tr>\n",
       "  </thead>\n",
       "  <tbody>\n",
       "    <tr>\n",
       "      <th>0</th>\n",
       "      <td>smart</td>\n",
       "      <td>1</td>\n",
       "      <td>6931</td>\n",
       "    </tr>\n",
       "    <tr>\n",
       "      <th>1</th>\n",
       "      <td>smart</td>\n",
       "      <td>2</td>\n",
       "      <td>17324</td>\n",
       "    </tr>\n",
       "    <tr>\n",
       "      <th>2</th>\n",
       "      <td>smart</td>\n",
       "      <td>3</td>\n",
       "      <td>30034</td>\n",
       "    </tr>\n",
       "    <tr>\n",
       "      <th>3</th>\n",
       "      <td>smart</td>\n",
       "      <td>4</td>\n",
       "      <td>41119</td>\n",
       "    </tr>\n",
       "    <tr>\n",
       "      <th>4</th>\n",
       "      <td>smart</td>\n",
       "      <td>5</td>\n",
       "      <td>54618</td>\n",
       "    </tr>\n",
       "  </tbody>\n",
       "</table>\n",
       "</div>"
      ],
      "text/plain": [
       "  tariff_name  month  sum_duration\n",
       "0       smart      1          6931\n",
       "1       smart      2         17324\n",
       "2       smart      3         30034\n",
       "3       smart      4         41119\n",
       "4       smart      5         54618"
      ]
     },
     "metadata": {},
     "output_type": "display_data"
    },
    {
     "data": {
      "text/html": [
       "<div>\n",
       "<style scoped>\n",
       "    .dataframe tbody tr th:only-of-type {\n",
       "        vertical-align: middle;\n",
       "    }\n",
       "\n",
       "    .dataframe tbody tr th {\n",
       "        vertical-align: top;\n",
       "    }\n",
       "\n",
       "    .dataframe thead th {\n",
       "        text-align: right;\n",
       "    }\n",
       "</style>\n",
       "<table border=\"1\" class=\"dataframe\">\n",
       "  <thead>\n",
       "    <tr style=\"text-align: right;\">\n",
       "      <th></th>\n",
       "      <th>tariff_name</th>\n",
       "      <th>mean</th>\n",
       "      <th>var</th>\n",
       "      <th>std</th>\n",
       "    </tr>\n",
       "  </thead>\n",
       "  <tbody>\n",
       "    <tr>\n",
       "      <th>0</th>\n",
       "      <td>smart</td>\n",
       "      <td>77631.416667</td>\n",
       "      <td>2.491282e+09</td>\n",
       "      <td>49912.744923</td>\n",
       "    </tr>\n",
       "    <tr>\n",
       "      <th>1</th>\n",
       "      <td>ultra</td>\n",
       "      <td>43227.000000</td>\n",
       "      <td>6.786517e+08</td>\n",
       "      <td>26050.944558</td>\n",
       "    </tr>\n",
       "  </tbody>\n",
       "</table>\n",
       "</div>"
      ],
      "text/plain": [
       "  tariff_name          mean           var           std\n",
       "0       smart  77631.416667  2.491282e+09  49912.744923\n",
       "1       ultra  43227.000000  6.786517e+08  26050.944558"
      ]
     },
     "metadata": {},
     "output_type": "display_data"
    },
    {
     "data": {
      "image/png": "[encoded data removed]",
      "text/plain": [
       "<Figure size 432x288 with 1 Axes>"
      ]
     },
     "metadata": {
      "needs_background": "light"
     },
     "output_type": "display_data"
    }
   ],
   "source": [
    "#кол-во минут разговора для каждой выборки в месяц\n",
    "call_by_month = final_df.pivot_table(index=['tariff_name', 'month'], values='sum_duration', aggfunc='sum').reset_index()\n",
    "display(call_by_month.head())\n",
    "\n",
    "#расчет среднего, дисперсии и старндартного отклонения\n",
    "tariff_calls_by_month = call_by_month.pivot_table(index=['tariff_name'], values='sum_duration', aggfunc=['mean', 'var', 'std']).reset_index()\n",
    "tariff_calls_by_month.columns = ['tariff_name','mean', 'var', 'std']\n",
    "display(tariff_calls_by_month)\n",
    "\n",
    "#строю гистограммы по выборкам\n",
    "smart_by_month = final_df.query('tariff_name == \"smart\"')\n",
    "ultra_by_month = final_df.query('tariff_name == \"ultra\"')\n",
    "smart_by_month['sum_duration'].plot(kind='hist', bins=50, alpha=0.7, title='Сумма звонков')\n",
    "ultra_by_month['sum_duration'].plot(kind='hist', alpha=0.5, bins=50)\n",
    "plt.legend(['smart', 'ultra'])\n",
    "plt.show()"
   ]
  },
  {
   "cell_type": "markdown",
   "metadata": {},
   "source": [
    "**По гистограммам можно сказать, что распределение нормальное в обоих случаях. Пользователи тарифа smart полноценно используют свой тариф, нежели пользователи ultra. Большое кол-во пользователей тарифа smart укладываются в тарифный план в 500 минут, тогда как пользователи тарифа ultra не постоянны в использовании своих минут, но за предел в 3000 минут не выходят.**"
   ]
  },
  {
   "cell_type": "code",
   "execution_count": 22,
   "metadata": {
    "scrolled": true
   },
   "outputs": [
    {
     "data": {
      "text/html": [
       "<div>\n",
       "<style scoped>\n",
       "    .dataframe tbody tr th:only-of-type {\n",
       "        vertical-align: middle;\n",
       "    }\n",
       "\n",
       "    .dataframe tbody tr th {\n",
       "        vertical-align: top;\n",
       "    }\n",
       "\n",
       "    .dataframe thead th {\n",
       "        text-align: right;\n",
       "    }\n",
       "</style>\n",
       "<table border=\"1\" class=\"dataframe\">\n",
       "  <thead>\n",
       "    <tr style=\"text-align: right;\">\n",
       "      <th></th>\n",
       "      <th>tariff_name</th>\n",
       "      <th>month</th>\n",
       "      <th>count_messages</th>\n",
       "    </tr>\n",
       "  </thead>\n",
       "  <tbody>\n",
       "    <tr>\n",
       "      <th>0</th>\n",
       "      <td>smart</td>\n",
       "      <td>1</td>\n",
       "      <td>620</td>\n",
       "    </tr>\n",
       "    <tr>\n",
       "      <th>1</th>\n",
       "      <td>smart</td>\n",
       "      <td>2</td>\n",
       "      <td>1397</td>\n",
       "    </tr>\n",
       "    <tr>\n",
       "      <th>2</th>\n",
       "      <td>smart</td>\n",
       "      <td>3</td>\n",
       "      <td>2453</td>\n",
       "    </tr>\n",
       "    <tr>\n",
       "      <th>3</th>\n",
       "      <td>smart</td>\n",
       "      <td>4</td>\n",
       "      <td>3443</td>\n",
       "    </tr>\n",
       "    <tr>\n",
       "      <th>4</th>\n",
       "      <td>smart</td>\n",
       "      <td>5</td>\n",
       "      <td>4762</td>\n",
       "    </tr>\n",
       "  </tbody>\n",
       "</table>\n",
       "</div>"
      ],
      "text/plain": [
       "  tariff_name  month  count_messages\n",
       "0       smart      1             620\n",
       "1       smart      2            1397\n",
       "2       smart      3            2453\n",
       "3       smart      4            3443\n",
       "4       smart      5            4762"
      ]
     },
     "metadata": {},
     "output_type": "display_data"
    },
    {
     "data": {
      "text/html": [
       "<div>\n",
       "<style scoped>\n",
       "    .dataframe tbody tr th:only-of-type {\n",
       "        vertical-align: middle;\n",
       "    }\n",
       "\n",
       "    .dataframe tbody tr th {\n",
       "        vertical-align: top;\n",
       "    }\n",
       "\n",
       "    .dataframe thead th {\n",
       "        text-align: right;\n",
       "    }\n",
       "</style>\n",
       "<table border=\"1\" class=\"dataframe\">\n",
       "  <thead>\n",
       "    <tr style=\"text-align: right;\">\n",
       "      <th></th>\n",
       "      <th>tariff_name</th>\n",
       "      <th>mean</th>\n",
       "      <th>var</th>\n",
       "      <th>std</th>\n",
       "    </tr>\n",
       "  </thead>\n",
       "  <tbody>\n",
       "    <tr>\n",
       "      <th>0</th>\n",
       "      <td>smart</td>\n",
       "      <td>6201.083333</td>\n",
       "      <td>1.437160e+07</td>\n",
       "      <td>3790.989687</td>\n",
       "    </tr>\n",
       "    <tr>\n",
       "      <th>1</th>\n",
       "      <td>ultra</td>\n",
       "      <td>4051.916667</td>\n",
       "      <td>8.057361e+06</td>\n",
       "      <td>2838.549036</td>\n",
       "    </tr>\n",
       "  </tbody>\n",
       "</table>\n",
       "</div>"
      ],
      "text/plain": [
       "  tariff_name         mean           var          std\n",
       "0       smart  6201.083333  1.437160e+07  3790.989687\n",
       "1       ultra  4051.916667  8.057361e+06  2838.549036"
      ]
     },
     "metadata": {},
     "output_type": "display_data"
    },
    {
     "data": {
      "image/png": "[encoded data removed]",
      "text/plain": [
       "<Figure size 432x288 with 1 Axes>"
      ]
     },
     "metadata": {
      "needs_background": "light"
     },
     "output_type": "display_data"
    }
   ],
   "source": [
    "#кол-во сообщений для каждой выборки в месяц\n",
    "messages_by_month = final_df.pivot_table(index=['tariff_name', 'month'], values='count_messages', aggfunc='sum').reset_index()\n",
    "display(messages_by_month.head())\n",
    "\n",
    "#расчет среднего, дисперсии и старндартного отклонения\n",
    "tariff_messages_by_month = messages_by_month.pivot_table(index=['tariff_name'], values='count_messages', aggfunc=['mean', 'var', 'std']).reset_index()\n",
    "tariff_messages_by_month.columns = ['tariff_name','mean', 'var', 'std']\n",
    "display(tariff_messages_by_month)\n",
    "\n",
    "#строю гистограммы по выборкам\n",
    "smart_by_month['count_messages'].plot(kind='hist', bins=50, alpha=0.7, title='Количество сообщений')\n",
    "ultra_by_month['count_messages'].plot(kind='hist', alpha=0.5, bins=50)\n",
    "plt.legend(['smart', 'ultra'])\n",
    "plt.show()"
   ]
  },
  {
   "cell_type": "markdown",
   "metadata": {},
   "source": [
    "**Видно, что большая часть клиентов у обоих тарифов мало используют сообщения. Можно сказать, что распределение сообщений одинаково.**"
   ]
  },
  {
   "cell_type": "code",
   "execution_count": 23,
   "metadata": {
    "scrolled": true
   },
   "outputs": [
    {
     "data": {
      "text/html": [
       "<div>\n",
       "<style scoped>\n",
       "    .dataframe tbody tr th:only-of-type {\n",
       "        vertical-align: middle;\n",
       "    }\n",
       "\n",
       "    .dataframe tbody tr th {\n",
       "        vertical-align: top;\n",
       "    }\n",
       "\n",
       "    .dataframe thead th {\n",
       "        text-align: right;\n",
       "    }\n",
       "</style>\n",
       "<table border=\"1\" class=\"dataframe\">\n",
       "  <thead>\n",
       "    <tr style=\"text-align: right;\">\n",
       "      <th></th>\n",
       "      <th>tariff_name</th>\n",
       "      <th>month</th>\n",
       "      <th>sum_session_gb</th>\n",
       "    </tr>\n",
       "  </thead>\n",
       "  <tbody>\n",
       "    <tr>\n",
       "      <th>0</th>\n",
       "      <td>smart</td>\n",
       "      <td>1</td>\n",
       "      <td>297</td>\n",
       "    </tr>\n",
       "    <tr>\n",
       "      <th>1</th>\n",
       "      <td>smart</td>\n",
       "      <td>2</td>\n",
       "      <td>687</td>\n",
       "    </tr>\n",
       "    <tr>\n",
       "      <th>2</th>\n",
       "      <td>smart</td>\n",
       "      <td>3</td>\n",
       "      <td>1173</td>\n",
       "    </tr>\n",
       "    <tr>\n",
       "      <th>3</th>\n",
       "      <td>smart</td>\n",
       "      <td>4</td>\n",
       "      <td>1526</td>\n",
       "    </tr>\n",
       "    <tr>\n",
       "      <th>4</th>\n",
       "      <td>smart</td>\n",
       "      <td>5</td>\n",
       "      <td>2243</td>\n",
       "    </tr>\n",
       "  </tbody>\n",
       "</table>\n",
       "</div>"
      ],
      "text/plain": [
       "  tariff_name  month  sum_session_gb\n",
       "0       smart      1             297\n",
       "1       smart      2             687\n",
       "2       smart      3            1173\n",
       "3       smart      4            1526\n",
       "4       smart      5            2243"
      ]
     },
     "metadata": {},
     "output_type": "display_data"
    },
    {
     "data": {
      "text/html": [
       "<div>\n",
       "<style scoped>\n",
       "    .dataframe tbody tr th:only-of-type {\n",
       "        vertical-align: middle;\n",
       "    }\n",
       "\n",
       "    .dataframe tbody tr th {\n",
       "        vertical-align: top;\n",
       "    }\n",
       "\n",
       "    .dataframe thead th {\n",
       "        text-align: right;\n",
       "    }\n",
       "</style>\n",
       "<table border=\"1\" class=\"dataframe\">\n",
       "  <thead>\n",
       "    <tr style=\"text-align: right;\">\n",
       "      <th></th>\n",
       "      <th>tariff_name</th>\n",
       "      <th>mean</th>\n",
       "      <th>var</th>\n",
       "      <th>std</th>\n",
       "    </tr>\n",
       "  </thead>\n",
       "  <tbody>\n",
       "    <tr>\n",
       "      <th>0</th>\n",
       "      <td>smart</td>\n",
       "      <td>3033.083333</td>\n",
       "      <td>3.697771e+06</td>\n",
       "      <td>1922.958821</td>\n",
       "    </tr>\n",
       "    <tr>\n",
       "      <th>1</th>\n",
       "      <td>ultra</td>\n",
       "      <td>1600.166667</td>\n",
       "      <td>9.025132e+05</td>\n",
       "      <td>950.006970</td>\n",
       "    </tr>\n",
       "  </tbody>\n",
       "</table>\n",
       "</div>"
      ],
      "text/plain": [
       "  tariff_name         mean           var          std\n",
       "0       smart  3033.083333  3.697771e+06  1922.958821\n",
       "1       ultra  1600.166667  9.025132e+05   950.006970"
      ]
     },
     "metadata": {},
     "output_type": "display_data"
    },
    {
     "data": {
      "image/png": "[encoded data removed]",
      "text/plain": [
       "<Figure size 432x288 with 1 Axes>"
      ]
     },
     "metadata": {
      "needs_background": "light"
     },
     "output_type": "display_data"
    }
   ],
   "source": [
    "#объем интернет-трафика для каждой выборки в месяц\n",
    "session_by_month = final_df.pivot_table(index=['tariff_name', 'month'], values='sum_session_gb', aggfunc='sum').reset_index()\n",
    "display(session_by_month.head())\n",
    "\n",
    "#расчет среднего, дисперсии и старндартного отклонения\n",
    "tariff_session_by_month = session_by_month.pivot_table(index=['tariff_name'], values='sum_session_gb', aggfunc=['mean', 'var', 'std']).reset_index()\n",
    "tariff_session_by_month.columns = ['tariff_name','mean', 'var', 'std']\n",
    "display(tariff_session_by_month)\n",
    "\n",
    "#строю гистограммы по выборкам\n",
    "smart_by_month['sum_session_gb'].plot(kind='hist', bins=50, alpha=0.7, title='Объем интернет-трафика')\n",
    "ultra_by_month['sum_session_gb'].plot(kind='hist', alpha=0.5, bins=50)\n",
    "plt.legend(['smart', 'ultra'])\n",
    "plt.show()"
   ]
  },
  {
   "cell_type": "markdown",
   "metadata": {},
   "source": [
    "**На данной гистограмме также наблюдается нормальное распределение. У тарифа smart пик гистограмы приходится на 16-17 гб, когда лимит для данного тарифа в 15 гб. Возможно, им необходимо пересмотреть свой тарифный план, а может и нет.\n",
    "Пользователи тарифа ultra в среднем тратят около 20гб интернет-трафика, но также есть определенное кол-во пользователей, которым не хватает предоставленного трафика.**"
   ]
  },
  {
   "cell_type": "markdown",
   "metadata": {},
   "source": [
    "### Выводы"
   ]
  },
  {
   "cell_type": "markdown",
   "metadata": {},
   "source": [
    "- сделал расчет минут разговора, кол-ва сообщений и объёма интернет-трафика для каждого тарифа в месяц\n",
    "- посчитал среднее количество, дисперсию и стандартное отклонение для данных показателей\n",
    "- построил и сравнил гистрограммы для тарифов smart и ultra "
   ]
  },
  {
   "cell_type": "markdown",
   "metadata": {},
   "source": [
    "## Проверка гипотез"
   ]
  },
  {
   "cell_type": "markdown",
   "metadata": {},
   "source": [
    "### Гипотеза: \"Средняя выручка пользователей тарифов «Ультра» и «Смарт» различаются\""
   ]
  },
  {
   "cell_type": "markdown",
   "metadata": {},
   "source": [
    "- Нулевая гипотеза: \"Средняя выручка пользователей тарифов «Ультра» и «Смарт» равны\"\n",
    "- Альтернативная гипотеза: \"Средняя выручка пользователей тарифов «Ультра» и «Смарт» не равны\""
   ]
  },
  {
   "cell_type": "code",
   "execution_count": 24,
   "metadata": {},
   "outputs": [
    {
     "data": {
      "text/html": [
       "<div>\n",
       "<style scoped>\n",
       "    .dataframe tbody tr th:only-of-type {\n",
       "        vertical-align: middle;\n",
       "    }\n",
       "\n",
       "    .dataframe tbody tr th {\n",
       "        vertical-align: top;\n",
       "    }\n",
       "\n",
       "    .dataframe thead th {\n",
       "        text-align: right;\n",
       "    }\n",
       "</style>\n",
       "<table border=\"1\" class=\"dataframe\">\n",
       "  <thead>\n",
       "    <tr style=\"text-align: right;\">\n",
       "      <th></th>\n",
       "      <th>tariff_name</th>\n",
       "      <th>average_revenue_by_month</th>\n",
       "    </tr>\n",
       "  </thead>\n",
       "  <tbody>\n",
       "    <tr>\n",
       "      <th>0</th>\n",
       "      <td>smart</td>\n",
       "      <td>1289.973531</td>\n",
       "    </tr>\n",
       "    <tr>\n",
       "      <th>1</th>\n",
       "      <td>ultra</td>\n",
       "      <td>2070.152284</td>\n",
       "    </tr>\n",
       "  </tbody>\n",
       "</table>\n",
       "</div>"
      ],
      "text/plain": [
       "  tariff_name  average_revenue_by_month\n",
       "0       smart               1289.973531\n",
       "1       ultra               2070.152284"
      ]
     },
     "metadata": {},
     "output_type": "display_data"
    },
    {
     "name": "stdout",
     "output_type": "stream",
     "text": [
      "p-значение 4.2606313931076085e-250\n",
      "Отвергаем нулевую гипотезу: \"Средняя выручка пользователей тарифов «Ультра» и «Смарт» равны\"\n"
     ]
    }
   ],
   "source": [
    "average_revenue = final_df.pivot_table(index='tariff_name', values='revenue_by_month').reset_index() #сводная таблица по тарифу\n",
    "average_revenue.columns = ['tariff_name', 'average_revenue_by_month']#с расчетом средней выручки пользователей\n",
    "display(average_revenue)\n",
    "\n",
    "# проверяю гипотезу о равенстве 2-х генеральных совокупностей\n",
    "average_smart = final_df.query('tariff_name == \"smart\"')\n",
    "average_ultra = final_df.query('tariff_name == \"ultra\"')\n",
    "alpha = .01\n",
    "\n",
    "results = st.ttest_ind(average_smart['revenue_by_month'], average_ultra['revenue_by_month'], equal_var=False)\n",
    "print('p-значение', results.pvalue)\n",
    "\n",
    "if results.pvalue < alpha:\n",
    "    print('Отвергаем нулевую гипотезу: \"Средняя выручка пользователей тарифов «Ультра» и «Смарт» равны\"')\n",
    "else:\n",
    "    print('Не получилось отвергнуть нулевую гипотезу: \"Средняя выручка пользователей тарифов «Ультра» и «Смарт» не равны\"') \n",
    "    "
   ]
  },
  {
   "cell_type": "markdown",
   "metadata": {},
   "source": [
    "**По полученной вероятности можно делать выводы о значимом различии между выборками.**"
   ]
  },
  {
   "cell_type": "markdown",
   "metadata": {},
   "source": [
    "### Гипотеза: \"Средняя выручка пользователей из Москвы отличается от выручки пользователей из других регионов\""
   ]
  },
  {
   "cell_type": "markdown",
   "metadata": {},
   "source": [
    "- Нулевая гипотеза: \"Средняя выручка пользователей из Москвы равна выручке пользователей из других регионов\"\n",
    "- Альтернативная гипотеза: \"Средняя выручка пользователей из Москвы не равна выручке пользователей из других регионов\""
   ]
  },
  {
   "cell_type": "code",
   "execution_count": 25,
   "metadata": {},
   "outputs": [
    {
     "name": "stdout",
     "output_type": "stream",
     "text": [
      "p-значение 0.5257376663729298\n",
      "Не получилось отвергнуть нулевую гипотезу\n"
     ]
    }
   ],
   "source": [
    "# проверяю гипотезу о равенстве 2-х генеральных совокупностей\n",
    "average_moscow = final_df.query('city == \"Москва\"')\n",
    "average_other_city = final_df.query('city != \"Москва\"')\n",
    "alpha = .01\n",
    "\n",
    "results = st.ttest_ind(average_moscow['revenue_by_month'], average_other_city['revenue_by_month'], equal_var=False)\n",
    "print('p-значение', results.pvalue)\n",
    "\n",
    "if results.pvalue < alpha:\n",
    "    print('Отвергаем нулевую гипотезу')\n",
    "else:\n",
    "    print('Не получилось отвергнуть нулевую гипотезу') "
   ]
  },
  {
   "cell_type": "markdown",
   "metadata": {},
   "source": [
    "**Вероятность равенства средних выручек пользователей из Москвы и из регионов составляет 26%. Можно считать это большой вероятностью равенства.**"
   ]
  },
  {
   "cell_type": "markdown",
   "metadata": {},
   "source": [
    "### Выводы"
   ]
  },
  {
   "cell_type": "markdown",
   "metadata": {},
   "source": [
    "- проверил две гипотезы по средним выручкам по категориям тарифа и местожительству пользователей."
   ]
  },
  {
   "cell_type": "markdown",
   "metadata": {},
   "source": [
    "## Общий вывод"
   ]
  },
  {
   "cell_type": "markdown",
   "metadata": {},
   "source": [
    "   **Большое кол-во пользователей тарифа smart укладываются в тарифный план в 500 минут, тогда как пользователи тарифа ultra не постоянны в использовании своих минут, но за предел в 3000 минут не выходят.**\n",
    "\n",
    "   **Видно, что большая часть клиентов у обоих тарифов мало используют сообщения. Можно сказать, что распределение сообщений одинаково.**\n",
    "\n",
    "   **У тарифа smart пик гистограмы приходится на 16-17 гб, когда лимит для данного тарифа в 15 гб. Возможно, им необходимо пересмотреть свой тарифный план, а может и нет.\n",
    "Пользователи тарифа ultra в среднем тратят около 20гб интернет-трафика, но также есть определенное кол-во пользователей, которым не хватает предоставленного трафика.**\n",
    "\n",
    "**По полученным данным можно сделать вывод, что для телеком-компании более переспективный тариф ultra, т.к. малая вероятность, что средняя выручка для двух тарифов одинакова. Также следует сказать, что регион мало влияет на среднуюю выручку пользователей.**"
   ]
  }
 ],
 "metadata": {
  "ExecuteTimeLog": [
   {
    "duration": 426,
    "start_time": "2022-03-30T07:18:13.364Z"
   },
   {
    "duration": 464,
    "start_time": "2022-03-30T07:23:24.737Z"
   },
   {
    "duration": 158,
    "start_time": "2022-03-30T07:23:38.182Z"
   },
   {
    "duration": 155,
    "start_time": "2022-03-30T07:23:43.557Z"
   },
   {
    "duration": 393,
    "start_time": "2022-03-30T07:23:55.766Z"
   },
   {
    "duration": 150,
    "start_time": "2022-03-30T07:24:04.279Z"
   },
   {
    "duration": 278,
    "start_time": "2022-03-30T07:25:04.959Z"
   },
   {
    "duration": 126,
    "start_time": "2022-03-30T09:17:07.581Z"
   },
   {
    "duration": 700,
    "start_time": "2022-03-30T09:17:11.576Z"
   },
   {
    "duration": 4,
    "start_time": "2022-03-30T09:17:15.137Z"
   },
   {
    "duration": 3,
    "start_time": "2022-03-30T09:17:16.311Z"
   },
   {
    "duration": 485,
    "start_time": "2022-03-30T09:17:16.719Z"
   },
   {
    "duration": 37,
    "start_time": "2022-03-30T09:17:44.014Z"
   },
   {
    "duration": 53,
    "start_time": "2022-03-30T09:17:56.495Z"
   },
   {
    "duration": 52,
    "start_time": "2022-03-30T09:18:07.110Z"
   },
   {
    "duration": 50,
    "start_time": "2022-03-30T09:18:13.878Z"
   },
   {
    "duration": 78,
    "start_time": "2022-03-30T09:18:23.143Z"
   },
   {
    "duration": 67,
    "start_time": "2022-03-30T09:18:34.815Z"
   },
   {
    "duration": 94,
    "start_time": "2022-03-30T09:23:48.942Z"
   },
   {
    "duration": 57,
    "start_time": "2022-03-30T09:23:57.237Z"
   },
   {
    "duration": 76,
    "start_time": "2022-03-30T09:24:20.923Z"
   },
   {
    "duration": 62,
    "start_time": "2022-03-30T09:29:39.476Z"
   },
   {
    "duration": 62,
    "start_time": "2022-03-30T09:29:47.419Z"
   },
   {
    "duration": 58,
    "start_time": "2022-03-30T09:29:54.475Z"
   },
   {
    "duration": 33,
    "start_time": "2022-03-30T09:30:58.248Z"
   },
   {
    "duration": 51,
    "start_time": "2022-03-30T09:31:19.024Z"
   },
   {
    "duration": 38,
    "start_time": "2022-03-30T09:31:58.583Z"
   },
   {
    "duration": 499,
    "start_time": "2022-03-30T09:32:22.717Z"
   },
   {
    "duration": 500,
    "start_time": "2022-03-30T09:32:23.221Z"
   },
   {
    "duration": 53,
    "start_time": "2022-03-30T09:32:23.723Z"
   },
   {
    "duration": 57,
    "start_time": "2022-03-30T09:32:23.779Z"
   },
   {
    "duration": 36,
    "start_time": "2022-03-30T09:33:27.233Z"
   },
   {
    "duration": 22,
    "start_time": "2022-03-30T09:34:12.033Z"
   },
   {
    "duration": 24,
    "start_time": "2022-03-30T09:34:22.706Z"
   },
   {
    "duration": 37,
    "start_time": "2022-03-30T09:35:15.183Z"
   },
   {
    "duration": 119,
    "start_time": "2022-03-30T09:38:43.480Z"
   },
   {
    "duration": 34,
    "start_time": "2022-03-30T09:38:50.216Z"
   },
   {
    "duration": 49,
    "start_time": "2022-03-30T09:39:50.807Z"
   },
   {
    "duration": 99,
    "start_time": "2022-03-30T09:40:40.974Z"
   },
   {
    "duration": 92,
    "start_time": "2022-03-30T09:40:53.862Z"
   },
   {
    "duration": 55,
    "start_time": "2022-03-30T09:41:11.222Z"
   },
   {
    "duration": 3,
    "start_time": "2022-03-30T10:25:57.686Z"
   },
   {
    "duration": 37,
    "start_time": "2022-03-30T10:33:23.275Z"
   },
   {
    "duration": 41,
    "start_time": "2022-03-30T10:33:32.545Z"
   },
   {
    "duration": 48,
    "start_time": "2022-03-30T10:37:10.011Z"
   },
   {
    "duration": 40,
    "start_time": "2022-03-30T10:52:36.404Z"
   },
   {
    "duration": 32,
    "start_time": "2022-03-30T10:53:22.802Z"
   },
   {
    "duration": 41,
    "start_time": "2022-03-30T10:54:28.385Z"
   },
   {
    "duration": 5,
    "start_time": "2022-03-30T11:00:12.240Z"
   },
   {
    "duration": 5,
    "start_time": "2022-03-30T11:00:16.384Z"
   },
   {
    "duration": 5,
    "start_time": "2022-03-30T11:00:31.206Z"
   },
   {
    "duration": 4,
    "start_time": "2022-03-30T11:00:34.627Z"
   },
   {
    "duration": 477,
    "start_time": "2022-03-30T11:57:28.128Z"
   },
   {
    "duration": 88,
    "start_time": "2022-03-30T11:59:58.784Z"
   },
   {
    "duration": 481,
    "start_time": "2022-03-30T12:00:05.834Z"
   },
   {
    "duration": 459,
    "start_time": "2022-03-30T12:00:06.318Z"
   },
   {
    "duration": 82,
    "start_time": "2022-03-30T12:00:06.780Z"
   },
   {
    "duration": 58,
    "start_time": "2022-03-30T12:00:06.883Z"
   },
   {
    "duration": 61,
    "start_time": "2022-03-30T12:00:06.943Z"
   },
   {
    "duration": 22,
    "start_time": "2022-03-30T12:00:07.006Z"
   },
   {
    "duration": 65,
    "start_time": "2022-03-30T12:00:07.031Z"
   },
   {
    "duration": 644,
    "start_time": "2022-03-30T12:00:07.099Z"
   },
   {
    "duration": 52,
    "start_time": "2022-03-30T12:00:42.598Z"
   },
   {
    "duration": 145,
    "start_time": "2022-03-30T12:04:02.785Z"
   },
   {
    "duration": 146,
    "start_time": "2022-03-30T12:04:16.919Z"
   },
   {
    "duration": 40,
    "start_time": "2022-03-30T12:04:27.566Z"
   },
   {
    "duration": 30,
    "start_time": "2022-03-30T12:04:43.397Z"
   },
   {
    "duration": 25,
    "start_time": "2022-03-30T12:04:51.950Z"
   },
   {
    "duration": 27,
    "start_time": "2022-03-30T12:06:12.436Z"
   },
   {
    "duration": 16,
    "start_time": "2022-03-30T12:06:24.755Z"
   },
   {
    "duration": 26,
    "start_time": "2022-03-30T12:06:52.266Z"
   },
   {
    "duration": 117,
    "start_time": "2022-03-30T12:08:01.993Z"
   },
   {
    "duration": 24,
    "start_time": "2022-03-30T12:08:17.393Z"
   },
   {
    "duration": 27,
    "start_time": "2022-03-30T12:08:30.935Z"
   },
   {
    "duration": 12,
    "start_time": "2022-03-30T12:08:39.415Z"
   },
   {
    "duration": 26,
    "start_time": "2022-03-30T12:09:07.984Z"
   },
   {
    "duration": 12,
    "start_time": "2022-03-30T12:10:24.013Z"
   },
   {
    "duration": 1807,
    "start_time": "2022-03-30T12:10:54.733Z"
   },
   {
    "duration": 1921,
    "start_time": "2022-03-30T12:11:24.384Z"
   },
   {
    "duration": 562,
    "start_time": "2022-03-30T12:11:30.042Z"
   },
   {
    "duration": 472,
    "start_time": "2022-03-30T12:11:30.607Z"
   },
   {
    "duration": 59,
    "start_time": "2022-03-30T12:11:31.081Z"
   },
   {
    "duration": 64,
    "start_time": "2022-03-30T12:11:31.144Z"
   },
   {
    "duration": 34,
    "start_time": "2022-03-30T12:11:31.210Z"
   },
   {
    "duration": 54,
    "start_time": "2022-03-30T12:11:31.247Z"
   },
   {
    "duration": 48,
    "start_time": "2022-03-30T12:11:31.304Z"
   },
   {
    "duration": 2250,
    "start_time": "2022-03-30T12:11:31.355Z"
   },
   {
    "duration": 2143,
    "start_time": "2022-03-30T12:16:32.310Z"
   },
   {
    "duration": 136,
    "start_time": "2022-03-30T12:17:12.777Z"
   },
   {
    "duration": 135,
    "start_time": "2022-03-30T12:17:17.601Z"
   },
   {
    "duration": 17,
    "start_time": "2022-03-30T12:18:18.863Z"
   },
   {
    "duration": 36,
    "start_time": "2022-03-30T12:18:29.134Z"
   },
   {
    "duration": 43,
    "start_time": "2022-03-30T12:21:03.594Z"
   },
   {
    "duration": 31,
    "start_time": "2022-03-30T12:21:27.065Z"
   },
   {
    "duration": 53,
    "start_time": "2022-03-30T12:21:32.098Z"
   },
   {
    "duration": 26,
    "start_time": "2022-03-30T12:32:24.545Z"
   },
   {
    "duration": 26,
    "start_time": "2022-03-30T12:43:14.312Z"
   },
   {
    "duration": 2273,
    "start_time": "2022-03-30T12:43:23.535Z"
   },
   {
    "duration": 1908,
    "start_time": "2022-03-30T12:43:34.071Z"
   },
   {
    "duration": 2073,
    "start_time": "2022-03-30T12:44:04.127Z"
   },
   {
    "duration": 39,
    "start_time": "2022-03-30T12:45:03.046Z"
   },
   {
    "duration": 44,
    "start_time": "2022-03-30T12:45:09.325Z"
   },
   {
    "duration": 44,
    "start_time": "2022-03-30T12:45:23.572Z"
   },
   {
    "duration": 549,
    "start_time": "2022-03-30T12:45:30.770Z"
   },
   {
    "duration": 498,
    "start_time": "2022-03-30T12:45:31.322Z"
   },
   {
    "duration": 68,
    "start_time": "2022-03-30T12:45:31.823Z"
   },
   {
    "duration": 47,
    "start_time": "2022-03-30T12:45:31.895Z"
   },
   {
    "duration": 57,
    "start_time": "2022-03-30T12:45:31.945Z"
   },
   {
    "duration": 23,
    "start_time": "2022-03-30T12:45:32.005Z"
   },
   {
    "duration": 60,
    "start_time": "2022-03-30T12:45:32.030Z"
   },
   {
    "duration": 169,
    "start_time": "2022-03-30T12:45:32.093Z"
   },
   {
    "duration": 296,
    "start_time": "2022-03-30T12:46:29.674Z"
   },
   {
    "duration": 38,
    "start_time": "2022-03-30T12:46:35.513Z"
   },
   {
    "duration": 2935,
    "start_time": "2022-03-30T12:54:21.659Z"
   },
   {
    "duration": 621,
    "start_time": "2022-03-30T12:54:38.898Z"
   },
   {
    "duration": 698,
    "start_time": "2022-03-30T12:54:39.522Z"
   },
   {
    "duration": 72,
    "start_time": "2022-03-30T12:54:40.223Z"
   },
   {
    "duration": 67,
    "start_time": "2022-03-30T12:54:40.299Z"
   },
   {
    "duration": 68,
    "start_time": "2022-03-30T12:54:40.368Z"
   },
   {
    "duration": 29,
    "start_time": "2022-03-30T12:54:40.439Z"
   },
   {
    "duration": 54,
    "start_time": "2022-03-30T12:54:40.504Z"
   },
   {
    "duration": 337,
    "start_time": "2022-03-30T12:54:40.560Z"
   },
   {
    "duration": 2899,
    "start_time": "2022-03-30T12:54:53.154Z"
   },
   {
    "duration": 24,
    "start_time": "2022-03-30T12:55:48.416Z"
   },
   {
    "duration": 34,
    "start_time": "2022-03-30T12:55:51.863Z"
   },
   {
    "duration": 38,
    "start_time": "2022-03-30T12:56:11.326Z"
   },
   {
    "duration": 32,
    "start_time": "2022-03-30T12:57:08.222Z"
   },
   {
    "duration": 5,
    "start_time": "2022-03-30T12:59:11.778Z"
   },
   {
    "duration": 65,
    "start_time": "2022-03-30T12:59:22.661Z"
   },
   {
    "duration": 33,
    "start_time": "2022-03-30T13:01:16.207Z"
   },
   {
    "duration": 56,
    "start_time": "2022-03-30T13:01:30.615Z"
   },
   {
    "duration": 47,
    "start_time": "2022-03-30T13:01:38.270Z"
   },
   {
    "duration": 45,
    "start_time": "2022-03-30T13:01:57.134Z"
   },
   {
    "duration": 69,
    "start_time": "2022-03-30T13:11:03.154Z"
   },
   {
    "duration": 42,
    "start_time": "2022-03-30T13:11:10.776Z"
   },
   {
    "duration": 40,
    "start_time": "2022-03-30T13:11:17.215Z"
   },
   {
    "duration": 499,
    "start_time": "2022-03-30T14:37:02.158Z"
   },
   {
    "duration": 436,
    "start_time": "2022-03-30T14:37:02.659Z"
   },
   {
    "duration": 60,
    "start_time": "2022-03-30T14:37:03.097Z"
   },
   {
    "duration": 52,
    "start_time": "2022-03-30T14:37:03.159Z"
   },
   {
    "duration": 32,
    "start_time": "2022-03-30T14:37:03.213Z"
   },
   {
    "duration": 23,
    "start_time": "2022-03-30T14:37:03.282Z"
   },
   {
    "duration": 41,
    "start_time": "2022-03-30T14:37:03.308Z"
   },
   {
    "duration": 171,
    "start_time": "2022-03-30T14:37:03.352Z"
   },
   {
    "duration": 32,
    "start_time": "2022-03-30T14:37:30.783Z"
   },
   {
    "duration": 31,
    "start_time": "2022-03-30T14:37:49.046Z"
   },
   {
    "duration": 53,
    "start_time": "2022-03-30T14:38:06.037Z"
   },
   {
    "duration": 71,
    "start_time": "2022-03-30T14:38:35.965Z"
   },
   {
    "duration": 80,
    "start_time": "2022-03-30T14:39:28.051Z"
   },
   {
    "duration": 101,
    "start_time": "2022-03-30T14:40:04.866Z"
   },
   {
    "duration": 95,
    "start_time": "2022-03-30T14:40:19.946Z"
   },
   {
    "duration": 29,
    "start_time": "2022-03-30T14:40:32.530Z"
   },
   {
    "duration": 20,
    "start_time": "2022-03-30T15:04:13.338Z"
   },
   {
    "duration": 44,
    "start_time": "2022-03-30T15:04:33.675Z"
   },
   {
    "duration": 12,
    "start_time": "2022-03-30T15:05:17.352Z"
   },
   {
    "duration": 86,
    "start_time": "2022-03-30T15:11:56.448Z"
   },
   {
    "duration": 72,
    "start_time": "2022-03-30T15:12:03.175Z"
   },
   {
    "duration": 30,
    "start_time": "2022-03-30T15:12:05.983Z"
   },
   {
    "duration": 44,
    "start_time": "2022-03-30T15:12:10.606Z"
   },
   {
    "duration": 119,
    "start_time": "2022-03-30T15:13:23.871Z"
   },
   {
    "duration": 126,
    "start_time": "2022-03-30T15:13:28.148Z"
   },
   {
    "duration": 132,
    "start_time": "2022-03-30T15:13:35.901Z"
   },
   {
    "duration": 212,
    "start_time": "2022-03-30T15:13:44.936Z"
   },
   {
    "duration": 112,
    "start_time": "2022-03-30T15:13:50.387Z"
   },
   {
    "duration": 121,
    "start_time": "2022-03-30T15:13:54.060Z"
   },
   {
    "duration": 132,
    "start_time": "2022-03-30T15:14:01.588Z"
   },
   {
    "duration": 144,
    "start_time": "2022-03-30T15:14:20.484Z"
   },
   {
    "duration": 133,
    "start_time": "2022-03-30T15:26:25.473Z"
   },
   {
    "duration": 129,
    "start_time": "2022-03-30T15:26:53.456Z"
   },
   {
    "duration": 128,
    "start_time": "2022-03-30T15:27:12.904Z"
   },
   {
    "duration": 131,
    "start_time": "2022-03-30T15:27:31.630Z"
   },
   {
    "duration": 122,
    "start_time": "2022-03-30T15:27:39.895Z"
   },
   {
    "duration": 133,
    "start_time": "2022-03-30T15:32:40.350Z"
   },
   {
    "duration": 123,
    "start_time": "2022-03-30T15:35:13.691Z"
   },
   {
    "duration": 122,
    "start_time": "2022-03-30T15:35:31.305Z"
   },
   {
    "duration": 133,
    "start_time": "2022-03-30T15:35:35.673Z"
   },
   {
    "duration": 557,
    "start_time": "2022-03-30T15:35:45.120Z"
   },
   {
    "duration": 128,
    "start_time": "2022-03-30T15:35:52.177Z"
   },
   {
    "duration": 118,
    "start_time": "2022-03-30T15:37:44.864Z"
   },
   {
    "duration": 132,
    "start_time": "2022-03-30T15:37:52.141Z"
   },
   {
    "duration": 13,
    "start_time": "2022-03-30T15:43:55.820Z"
   },
   {
    "duration": 21,
    "start_time": "2022-03-30T15:45:58.136Z"
   },
   {
    "duration": 82,
    "start_time": "2022-03-30T15:49:18.396Z"
   },
   {
    "duration": 69,
    "start_time": "2022-03-30T15:49:26.629Z"
   },
   {
    "duration": 64,
    "start_time": "2022-03-30T15:49:33.179Z"
   },
   {
    "duration": 14,
    "start_time": "2022-03-30T15:49:50.442Z"
   },
   {
    "duration": 40,
    "start_time": "2022-03-30T15:50:19.162Z"
   },
   {
    "duration": 66,
    "start_time": "2022-03-30T15:50:27.068Z"
   },
   {
    "duration": 504,
    "start_time": "2022-03-30T15:51:19.801Z"
   },
   {
    "duration": 66,
    "start_time": "2022-03-30T15:51:46.735Z"
   },
   {
    "duration": 61,
    "start_time": "2022-03-30T15:51:51.343Z"
   },
   {
    "duration": 70,
    "start_time": "2022-03-30T15:52:06.991Z"
   },
   {
    "duration": 57,
    "start_time": "2022-03-30T15:52:21.414Z"
   },
   {
    "duration": 64,
    "start_time": "2022-03-30T15:52:29.558Z"
   },
   {
    "duration": 72,
    "start_time": "2022-03-30T15:52:38.621Z"
   },
   {
    "duration": 61,
    "start_time": "2022-03-30T15:53:10.831Z"
   },
   {
    "duration": 60,
    "start_time": "2022-03-30T15:53:23.581Z"
   },
   {
    "duration": 68,
    "start_time": "2022-03-30T15:53:28.876Z"
   },
   {
    "duration": 68,
    "start_time": "2022-03-30T15:54:01.476Z"
   },
   {
    "duration": 128,
    "start_time": "2022-03-30T15:54:12.547Z"
   },
   {
    "duration": 70,
    "start_time": "2022-03-30T15:54:21.331Z"
   },
   {
    "duration": 384,
    "start_time": "2022-03-30T17:51:54.117Z"
   },
   {
    "duration": 384,
    "start_time": "2022-03-30T17:51:54.503Z"
   },
   {
    "duration": 42,
    "start_time": "2022-03-30T17:51:54.889Z"
   },
   {
    "duration": 32,
    "start_time": "2022-03-30T17:51:54.934Z"
   },
   {
    "duration": 47,
    "start_time": "2022-03-30T17:51:54.968Z"
   },
   {
    "duration": 13,
    "start_time": "2022-03-30T17:51:55.016Z"
   },
   {
    "duration": 22,
    "start_time": "2022-03-30T17:51:55.031Z"
   },
   {
    "duration": 136,
    "start_time": "2022-03-30T17:51:55.054Z"
   },
   {
    "duration": 69,
    "start_time": "2022-03-30T17:51:55.191Z"
   },
   {
    "duration": 122,
    "start_time": "2022-03-30T17:51:55.262Z"
   },
   {
    "duration": 52,
    "start_time": "2022-03-30T17:51:55.386Z"
   },
   {
    "duration": 3,
    "start_time": "2022-03-30T17:52:26.605Z"
   },
   {
    "duration": 3,
    "start_time": "2022-03-30T17:53:34.702Z"
   },
   {
    "duration": 82,
    "start_time": "2022-03-30T18:50:52.044Z"
   },
   {
    "duration": 10,
    "start_time": "2022-03-30T18:51:28.185Z"
   },
   {
    "duration": 472,
    "start_time": "2022-03-30T18:51:31.892Z"
   },
   {
    "duration": 429,
    "start_time": "2022-03-30T18:51:32.367Z"
   },
   {
    "duration": 58,
    "start_time": "2022-03-30T18:51:32.799Z"
   },
   {
    "duration": 53,
    "start_time": "2022-03-30T18:51:32.861Z"
   },
   {
    "duration": 29,
    "start_time": "2022-03-30T18:51:32.916Z"
   },
   {
    "duration": 54,
    "start_time": "2022-03-30T18:51:32.947Z"
   },
   {
    "duration": 26,
    "start_time": "2022-03-30T18:51:33.002Z"
   },
   {
    "duration": 174,
    "start_time": "2022-03-30T18:51:33.031Z"
   },
   {
    "duration": 103,
    "start_time": "2022-03-30T18:51:33.207Z"
   },
   {
    "duration": 159,
    "start_time": "2022-03-30T18:51:33.313Z"
   },
   {
    "duration": 74,
    "start_time": "2022-03-30T18:51:33.474Z"
   },
   {
    "duration": 4,
    "start_time": "2022-03-30T18:51:33.550Z"
   },
   {
    "duration": 120,
    "start_time": "2022-03-30T18:52:04.924Z"
   },
   {
    "duration": 19,
    "start_time": "2022-03-30T18:52:50.318Z"
   },
   {
    "duration": 22,
    "start_time": "2022-03-30T18:56:08.746Z"
   },
   {
    "duration": 22,
    "start_time": "2022-03-30T18:56:13.016Z"
   },
   {
    "duration": 38,
    "start_time": "2022-03-30T18:56:17.848Z"
   },
   {
    "duration": 78,
    "start_time": "2022-03-30T18:58:35.367Z"
   },
   {
    "duration": 74,
    "start_time": "2022-03-30T18:58:46.677Z"
   },
   {
    "duration": 73,
    "start_time": "2022-03-30T18:59:08.101Z"
   },
   {
    "duration": 514,
    "start_time": "2022-03-30T18:59:13.051Z"
   },
   {
    "duration": 455,
    "start_time": "2022-03-30T18:59:13.567Z"
   },
   {
    "duration": 57,
    "start_time": "2022-03-30T18:59:14.024Z"
   },
   {
    "duration": 41,
    "start_time": "2022-03-30T18:59:14.084Z"
   },
   {
    "duration": 57,
    "start_time": "2022-03-30T18:59:14.127Z"
   },
   {
    "duration": 22,
    "start_time": "2022-03-30T18:59:14.187Z"
   },
   {
    "duration": 46,
    "start_time": "2022-03-30T18:59:14.211Z"
   },
   {
    "duration": 162,
    "start_time": "2022-03-30T18:59:14.259Z"
   },
   {
    "duration": 116,
    "start_time": "2022-03-30T18:59:14.423Z"
   },
   {
    "duration": 160,
    "start_time": "2022-03-30T18:59:14.542Z"
   },
   {
    "duration": 81,
    "start_time": "2022-03-30T18:59:14.705Z"
   },
   {
    "duration": 13,
    "start_time": "2022-03-30T18:59:14.788Z"
   },
   {
    "duration": 107,
    "start_time": "2022-03-30T18:59:14.803Z"
   },
   {
    "duration": 77,
    "start_time": "2022-03-30T18:59:21.942Z"
   },
   {
    "duration": 71,
    "start_time": "2022-03-30T19:09:14.873Z"
   },
   {
    "duration": 68,
    "start_time": "2022-03-30T19:10:49.115Z"
   },
   {
    "duration": 72,
    "start_time": "2022-03-30T19:10:59.050Z"
   },
   {
    "duration": 73,
    "start_time": "2022-03-30T19:11:40.029Z"
   },
   {
    "duration": 72,
    "start_time": "2022-03-30T19:11:53.259Z"
   },
   {
    "duration": 69,
    "start_time": "2022-03-30T19:13:14.205Z"
   },
   {
    "duration": 69,
    "start_time": "2022-03-30T19:13:43.902Z"
   },
   {
    "duration": 78,
    "start_time": "2022-03-30T19:14:00.662Z"
   },
   {
    "duration": 116,
    "start_time": "2022-03-30T19:14:50.975Z"
   },
   {
    "duration": 69,
    "start_time": "2022-03-30T19:15:11.238Z"
   },
   {
    "duration": 71,
    "start_time": "2022-03-30T19:15:40.104Z"
   },
   {
    "duration": 11,
    "start_time": "2022-03-30T19:23:59.352Z"
   },
   {
    "duration": 22,
    "start_time": "2022-03-30T19:24:03.696Z"
   },
   {
    "duration": 20,
    "start_time": "2022-03-30T19:24:26.441Z"
   },
   {
    "duration": 132,
    "start_time": "2022-03-30T19:25:52.227Z"
   },
   {
    "duration": 63,
    "start_time": "2022-03-30T19:26:08.779Z"
   },
   {
    "duration": 24,
    "start_time": "2022-03-30T19:26:33.909Z"
   },
   {
    "duration": 73,
    "start_time": "2022-03-30T19:27:45.190Z"
   },
   {
    "duration": 15,
    "start_time": "2022-03-30T19:28:21.951Z"
   },
   {
    "duration": 26,
    "start_time": "2022-03-30T19:28:30.781Z"
   },
   {
    "duration": 114,
    "start_time": "2022-03-30T19:29:00.496Z"
   },
   {
    "duration": 22,
    "start_time": "2022-03-30T19:29:15.990Z"
   },
   {
    "duration": 23,
    "start_time": "2022-03-30T19:30:08.480Z"
   },
   {
    "duration": 37,
    "start_time": "2022-03-30T19:30:14.991Z"
   },
   {
    "duration": 35,
    "start_time": "2022-03-30T19:30:25.945Z"
   },
   {
    "duration": 135,
    "start_time": "2022-03-30T19:30:49.737Z"
   },
   {
    "duration": 27,
    "start_time": "2022-03-30T19:30:53.056Z"
   },
   {
    "duration": 28,
    "start_time": "2022-03-30T19:30:59.506Z"
   },
   {
    "duration": 29,
    "start_time": "2022-03-30T19:31:12.048Z"
   },
   {
    "duration": 549,
    "start_time": "2022-03-30T19:31:30.808Z"
   },
   {
    "duration": 477,
    "start_time": "2022-03-30T19:31:31.359Z"
   },
   {
    "duration": 62,
    "start_time": "2022-03-30T19:31:31.838Z"
   },
   {
    "duration": 48,
    "start_time": "2022-03-30T19:31:31.905Z"
   },
   {
    "duration": 34,
    "start_time": "2022-03-30T19:31:31.983Z"
   },
   {
    "duration": 23,
    "start_time": "2022-03-30T19:31:32.019Z"
   },
   {
    "duration": 60,
    "start_time": "2022-03-30T19:31:32.044Z"
   },
   {
    "duration": 167,
    "start_time": "2022-03-30T19:31:32.107Z"
   },
   {
    "duration": 109,
    "start_time": "2022-03-30T19:31:32.276Z"
   },
   {
    "duration": 165,
    "start_time": "2022-03-30T19:31:32.389Z"
   },
   {
    "duration": 82,
    "start_time": "2022-03-30T19:31:32.557Z"
   },
   {
    "duration": 88,
    "start_time": "2022-03-30T19:31:32.642Z"
   },
   {
    "duration": 30,
    "start_time": "2022-03-30T19:31:32.733Z"
   },
   {
    "duration": 138,
    "start_time": "2022-03-30T19:32:24.216Z"
   },
   {
    "duration": 124,
    "start_time": "2022-03-30T19:32:29.479Z"
   },
   {
    "duration": 39,
    "start_time": "2022-03-30T19:32:55.769Z"
   },
   {
    "duration": 73,
    "start_time": "2022-03-30T19:33:19.281Z"
   },
   {
    "duration": 111,
    "start_time": "2022-03-30T19:43:36.109Z"
   },
   {
    "duration": 1929,
    "start_time": "2022-03-30T19:47:36.378Z"
   },
   {
    "duration": 483,
    "start_time": "2022-03-30T19:47:45.928Z"
   },
   {
    "duration": 457,
    "start_time": "2022-03-30T19:47:46.413Z"
   },
   {
    "duration": 57,
    "start_time": "2022-03-30T19:47:46.873Z"
   },
   {
    "duration": 58,
    "start_time": "2022-03-30T19:47:46.933Z"
   },
   {
    "duration": 30,
    "start_time": "2022-03-30T19:47:46.994Z"
   },
   {
    "duration": 21,
    "start_time": "2022-03-30T19:47:47.027Z"
   },
   {
    "duration": 29,
    "start_time": "2022-03-30T19:47:47.083Z"
   },
   {
    "duration": 177,
    "start_time": "2022-03-30T19:47:47.115Z"
   },
   {
    "duration": 110,
    "start_time": "2022-03-30T19:47:47.294Z"
   },
   {
    "duration": 167,
    "start_time": "2022-03-30T19:47:47.407Z"
   },
   {
    "duration": 69,
    "start_time": "2022-03-30T19:47:47.577Z"
   },
   {
    "duration": 105,
    "start_time": "2022-03-30T19:47:47.648Z"
   },
   {
    "duration": 118,
    "start_time": "2022-03-30T19:47:47.755Z"
   },
   {
    "duration": 23,
    "start_time": "2022-03-30T19:48:23.419Z"
   },
   {
    "duration": 48,
    "start_time": "2022-03-30T19:48:27.293Z"
   },
   {
    "duration": 43,
    "start_time": "2022-03-30T19:48:41.524Z"
   },
   {
    "duration": 40,
    "start_time": "2022-03-30T19:53:09.666Z"
   },
   {
    "duration": 35,
    "start_time": "2022-03-30T19:56:22.046Z"
   },
   {
    "duration": 54,
    "start_time": "2022-03-30T19:58:38.398Z"
   },
   {
    "duration": 64,
    "start_time": "2022-03-30T20:02:26.963Z"
   },
   {
    "duration": 76,
    "start_time": "2022-03-30T20:02:47.171Z"
   },
   {
    "duration": 41,
    "start_time": "2022-03-30T20:10:17.836Z"
   },
   {
    "duration": 49,
    "start_time": "2022-03-30T20:10:29.507Z"
   },
   {
    "duration": 57,
    "start_time": "2022-03-30T20:10:43.996Z"
   },
   {
    "duration": 46,
    "start_time": "2022-03-30T20:11:14.389Z"
   },
   {
    "duration": 46,
    "start_time": "2022-03-30T20:11:32.549Z"
   },
   {
    "duration": 50,
    "start_time": "2022-03-30T20:11:39.422Z"
   },
   {
    "duration": 71,
    "start_time": "2022-03-30T20:12:21.509Z"
   },
   {
    "duration": 72,
    "start_time": "2022-03-30T20:20:50.976Z"
   },
   {
    "duration": 76,
    "start_time": "2022-03-30T20:21:04.416Z"
   },
   {
    "duration": 69,
    "start_time": "2022-03-30T20:21:23.482Z"
   },
   {
    "duration": 111,
    "start_time": "2022-03-30T21:14:50.665Z"
   },
   {
    "duration": 4,
    "start_time": "2022-03-30T21:14:57.545Z"
   },
   {
    "duration": 17,
    "start_time": "2022-03-30T21:15:24.881Z"
   },
   {
    "duration": 67,
    "start_time": "2022-03-30T21:16:45.156Z"
   },
   {
    "duration": 15,
    "start_time": "2022-03-30T21:17:02.781Z"
   },
   {
    "duration": 14,
    "start_time": "2022-03-30T21:18:08.365Z"
   },
   {
    "duration": 15,
    "start_time": "2022-03-30T21:18:48.974Z"
   },
   {
    "duration": 13,
    "start_time": "2022-03-30T21:19:20.783Z"
   },
   {
    "duration": 126,
    "start_time": "2022-03-30T21:19:47.055Z"
   },
   {
    "duration": 4,
    "start_time": "2022-03-30T21:19:55.703Z"
   },
   {
    "duration": 33,
    "start_time": "2022-03-30T21:20:00.806Z"
   },
   {
    "duration": 12,
    "start_time": "2022-03-30T21:20:35.480Z"
   },
   {
    "duration": 566,
    "start_time": "2022-03-30T21:21:02.559Z"
   },
   {
    "duration": 487,
    "start_time": "2022-03-30T21:21:03.128Z"
   },
   {
    "duration": 62,
    "start_time": "2022-03-30T21:21:03.617Z"
   },
   {
    "duration": 42,
    "start_time": "2022-03-30T21:21:03.682Z"
   },
   {
    "duration": 61,
    "start_time": "2022-03-30T21:21:03.726Z"
   },
   {
    "duration": 25,
    "start_time": "2022-03-30T21:21:03.789Z"
   },
   {
    "duration": 68,
    "start_time": "2022-03-30T21:21:03.816Z"
   },
   {
    "duration": 179,
    "start_time": "2022-03-30T21:21:03.887Z"
   },
   {
    "duration": 114,
    "start_time": "2022-03-30T21:21:04.068Z"
   },
   {
    "duration": 178,
    "start_time": "2022-03-30T21:21:04.186Z"
   },
   {
    "duration": 77,
    "start_time": "2022-03-30T21:21:04.366Z"
   },
   {
    "duration": 99,
    "start_time": "2022-03-30T21:21:04.445Z"
   },
   {
    "duration": 82,
    "start_time": "2022-03-30T21:21:04.547Z"
   },
   {
    "duration": 111,
    "start_time": "2022-03-30T21:21:04.632Z"
   },
   {
    "duration": 12,
    "start_time": "2022-03-30T21:21:51.605Z"
   },
   {
    "duration": 13,
    "start_time": "2022-03-30T21:22:41.886Z"
   },
   {
    "duration": 31,
    "start_time": "2022-03-30T21:22:48.550Z"
   },
   {
    "duration": 13,
    "start_time": "2022-03-30T21:23:45.647Z"
   },
   {
    "duration": 70,
    "start_time": "2022-03-30T21:27:26.173Z"
   },
   {
    "duration": 69,
    "start_time": "2022-03-30T21:27:41.405Z"
   },
   {
    "duration": 98,
    "start_time": "2022-03-30T21:27:48.701Z"
   },
   {
    "duration": 692,
    "start_time": "2022-03-30T21:36:35.343Z"
   },
   {
    "duration": 110,
    "start_time": "2022-03-30T21:36:44.397Z"
   },
   {
    "duration": 88,
    "start_time": "2022-03-30T21:37:04.504Z"
   },
   {
    "duration": 104,
    "start_time": "2022-03-30T21:37:48.031Z"
   },
   {
    "duration": 156,
    "start_time": "2022-03-30T21:53:09.328Z"
   },
   {
    "duration": 185,
    "start_time": "2022-03-30T21:55:32.260Z"
   },
   {
    "duration": 148,
    "start_time": "2022-03-30T22:02:05.580Z"
   },
   {
    "duration": 406,
    "start_time": "2022-03-31T05:17:49.371Z"
   },
   {
    "duration": 379,
    "start_time": "2022-03-31T05:17:49.779Z"
   },
   {
    "duration": 45,
    "start_time": "2022-03-31T05:17:50.159Z"
   },
   {
    "duration": 32,
    "start_time": "2022-03-31T05:17:50.206Z"
   },
   {
    "duration": 24,
    "start_time": "2022-03-31T05:17:50.239Z"
   },
   {
    "duration": 15,
    "start_time": "2022-03-31T05:17:50.265Z"
   },
   {
    "duration": 46,
    "start_time": "2022-03-31T05:17:50.281Z"
   },
   {
    "duration": 137,
    "start_time": "2022-03-31T05:17:50.328Z"
   },
   {
    "duration": 80,
    "start_time": "2022-03-31T05:17:50.467Z"
   },
   {
    "duration": 138,
    "start_time": "2022-03-31T05:17:50.549Z"
   },
   {
    "duration": 64,
    "start_time": "2022-03-31T05:17:50.689Z"
   },
   {
    "duration": 72,
    "start_time": "2022-03-31T05:17:50.754Z"
   },
   {
    "duration": 50,
    "start_time": "2022-03-31T05:17:50.828Z"
   },
   {
    "duration": 139,
    "start_time": "2022-03-31T05:17:50.880Z"
   },
   {
    "duration": 129,
    "start_time": "2022-03-31T05:20:05.454Z"
   },
   {
    "duration": 46,
    "start_time": "2022-03-31T05:21:37.566Z"
   },
   {
    "duration": 44,
    "start_time": "2022-03-31T05:21:39.334Z"
   },
   {
    "duration": 116,
    "start_time": "2022-03-31T05:21:39.966Z"
   },
   {
    "duration": 46,
    "start_time": "2022-03-31T05:22:07.239Z"
   },
   {
    "duration": 47,
    "start_time": "2022-03-31T05:22:10.974Z"
   },
   {
    "duration": 115,
    "start_time": "2022-03-31T05:22:11.391Z"
   },
   {
    "duration": 119,
    "start_time": "2022-03-31T05:45:19.562Z"
   },
   {
    "duration": 104,
    "start_time": "2022-03-31T05:45:30.201Z"
   },
   {
    "duration": 115,
    "start_time": "2022-03-31T05:46:28.258Z"
   },
   {
    "duration": 17,
    "start_time": "2022-03-31T05:51:44.823Z"
   },
   {
    "duration": 14,
    "start_time": "2022-03-31T05:51:49.256Z"
   },
   {
    "duration": 10,
    "start_time": "2022-03-31T05:57:37.671Z"
   },
   {
    "duration": 16,
    "start_time": "2022-03-31T05:57:47.942Z"
   },
   {
    "duration": 17,
    "start_time": "2022-03-31T05:58:02.014Z"
   },
   {
    "duration": 16,
    "start_time": "2022-03-31T05:58:42.577Z"
   },
   {
    "duration": 15,
    "start_time": "2022-03-31T05:59:27.258Z"
   },
   {
    "duration": 20,
    "start_time": "2022-03-31T05:59:56.497Z"
   },
   {
    "duration": 162,
    "start_time": "2022-03-31T06:08:52.151Z"
   },
   {
    "duration": 113,
    "start_time": "2022-03-31T06:09:11.278Z"
   },
   {
    "duration": 432,
    "start_time": "2022-03-31T06:09:27.380Z"
   },
   {
    "duration": 352,
    "start_time": "2022-03-31T06:09:27.814Z"
   },
   {
    "duration": 43,
    "start_time": "2022-03-31T06:09:28.168Z"
   },
   {
    "duration": 32,
    "start_time": "2022-03-31T06:09:28.214Z"
   },
   {
    "duration": 25,
    "start_time": "2022-03-31T06:09:28.248Z"
   },
   {
    "duration": 47,
    "start_time": "2022-03-31T06:09:28.275Z"
   },
   {
    "duration": 22,
    "start_time": "2022-03-31T06:09:28.323Z"
   },
   {
    "duration": 145,
    "start_time": "2022-03-31T06:09:28.347Z"
   },
   {
    "duration": 83,
    "start_time": "2022-03-31T06:09:28.494Z"
   },
   {
    "duration": 144,
    "start_time": "2022-03-31T06:09:28.580Z"
   },
   {
    "duration": 57,
    "start_time": "2022-03-31T06:09:28.726Z"
   },
   {
    "duration": 76,
    "start_time": "2022-03-31T06:09:28.785Z"
   },
   {
    "duration": 66,
    "start_time": "2022-03-31T06:09:28.863Z"
   },
   {
    "duration": 178,
    "start_time": "2022-03-31T06:09:28.931Z"
   },
   {
    "duration": 0,
    "start_time": "2022-03-31T06:09:29.110Z"
   },
   {
    "duration": 0,
    "start_time": "2022-03-31T06:09:29.112Z"
   },
   {
    "duration": 109,
    "start_time": "2022-03-31T06:09:55.648Z"
   },
   {
    "duration": 113,
    "start_time": "2022-03-31T06:10:01.839Z"
   },
   {
    "duration": 129,
    "start_time": "2022-03-31T06:10:11.895Z"
   },
   {
    "duration": 86,
    "start_time": "2022-03-31T06:10:16.279Z"
   },
   {
    "duration": 103,
    "start_time": "2022-03-31T06:10:20.495Z"
   },
   {
    "duration": 109,
    "start_time": "2022-03-31T06:10:26.135Z"
   },
   {
    "duration": 111,
    "start_time": "2022-03-31T06:10:33.920Z"
   },
   {
    "duration": 122,
    "start_time": "2022-03-31T06:10:38.912Z"
   },
   {
    "duration": 121,
    "start_time": "2022-03-31T06:10:59.297Z"
   },
   {
    "duration": 114,
    "start_time": "2022-03-31T06:11:03.344Z"
   },
   {
    "duration": 115,
    "start_time": "2022-03-31T06:11:14.664Z"
   },
   {
    "duration": 120,
    "start_time": "2022-03-31T06:13:12.779Z"
   },
   {
    "duration": 102,
    "start_time": "2022-03-31T06:13:26.267Z"
   },
   {
    "duration": 106,
    "start_time": "2022-03-31T06:13:29.805Z"
   },
   {
    "duration": 12,
    "start_time": "2022-03-31T06:13:31.747Z"
   },
   {
    "duration": 17,
    "start_time": "2022-03-31T06:13:33.044Z"
   },
   {
    "duration": 140,
    "start_time": "2022-03-31T06:14:12.276Z"
   },
   {
    "duration": 122,
    "start_time": "2022-03-31T06:15:16.279Z"
   },
   {
    "duration": 121,
    "start_time": "2022-03-31T06:16:00.307Z"
   },
   {
    "duration": 126,
    "start_time": "2022-03-31T06:16:10.647Z"
   },
   {
    "duration": 124,
    "start_time": "2022-03-31T06:16:26.304Z"
   },
   {
    "duration": 143,
    "start_time": "2022-03-31T06:19:15.899Z"
   },
   {
    "duration": 133,
    "start_time": "2022-03-31T06:21:18.494Z"
   },
   {
    "duration": 119,
    "start_time": "2022-03-31T06:21:22.093Z"
   },
   {
    "duration": 130,
    "start_time": "2022-03-31T06:21:32.381Z"
   },
   {
    "duration": 127,
    "start_time": "2022-03-31T06:23:00.103Z"
   },
   {
    "duration": 131,
    "start_time": "2022-03-31T06:23:18.527Z"
   },
   {
    "duration": 129,
    "start_time": "2022-03-31T06:23:26.959Z"
   },
   {
    "duration": 115,
    "start_time": "2022-03-31T06:23:41.291Z"
   },
   {
    "duration": 9,
    "start_time": "2022-03-31T06:23:44.208Z"
   },
   {
    "duration": 381,
    "start_time": "2022-03-31T06:24:02.435Z"
   },
   {
    "duration": 376,
    "start_time": "2022-03-31T06:24:02.818Z"
   },
   {
    "duration": 43,
    "start_time": "2022-03-31T06:24:03.196Z"
   },
   {
    "duration": 31,
    "start_time": "2022-03-31T06:24:03.241Z"
   },
   {
    "duration": 49,
    "start_time": "2022-03-31T06:24:03.273Z"
   },
   {
    "duration": 16,
    "start_time": "2022-03-31T06:24:03.323Z"
   },
   {
    "duration": 20,
    "start_time": "2022-03-31T06:24:03.340Z"
   },
   {
    "duration": 154,
    "start_time": "2022-03-31T06:24:03.361Z"
   },
   {
    "duration": 73,
    "start_time": "2022-03-31T06:24:03.516Z"
   },
   {
    "duration": 136,
    "start_time": "2022-03-31T06:24:03.591Z"
   },
   {
    "duration": 54,
    "start_time": "2022-03-31T06:24:03.729Z"
   },
   {
    "duration": 73,
    "start_time": "2022-03-31T06:24:03.785Z"
   },
   {
    "duration": 63,
    "start_time": "2022-03-31T06:24:03.860Z"
   },
   {
    "duration": 125,
    "start_time": "2022-03-31T06:24:03.925Z"
   },
   {
    "duration": 75,
    "start_time": "2022-03-31T06:24:04.052Z"
   },
   {
    "duration": 1,
    "start_time": "2022-03-31T06:24:04.128Z"
   },
   {
    "duration": 9,
    "start_time": "2022-03-31T06:25:23.031Z"
   },
   {
    "duration": 10,
    "start_time": "2022-03-31T06:29:13.755Z"
   },
   {
    "duration": 406,
    "start_time": "2022-03-31T06:29:21.414Z"
   },
   {
    "duration": 355,
    "start_time": "2022-03-31T06:29:21.822Z"
   },
   {
    "duration": 41,
    "start_time": "2022-03-31T06:29:22.178Z"
   },
   {
    "duration": 30,
    "start_time": "2022-03-31T06:29:22.222Z"
   },
   {
    "duration": 21,
    "start_time": "2022-03-31T06:29:22.254Z"
   },
   {
    "duration": 38,
    "start_time": "2022-03-31T06:29:22.277Z"
   },
   {
    "duration": 18,
    "start_time": "2022-03-31T06:29:22.317Z"
   },
   {
    "duration": 127,
    "start_time": "2022-03-31T06:29:22.336Z"
   },
   {
    "duration": 78,
    "start_time": "2022-03-31T06:29:22.464Z"
   },
   {
    "duration": 126,
    "start_time": "2022-03-31T06:29:22.545Z"
   },
   {
    "duration": 63,
    "start_time": "2022-03-31T06:29:22.672Z"
   },
   {
    "duration": 71,
    "start_time": "2022-03-31T06:29:22.737Z"
   },
   {
    "duration": 43,
    "start_time": "2022-03-31T06:29:22.810Z"
   },
   {
    "duration": 187,
    "start_time": "2022-03-31T06:29:22.855Z"
   },
   {
    "duration": 0,
    "start_time": "2022-03-31T06:29:23.044Z"
   },
   {
    "duration": 0,
    "start_time": "2022-03-31T06:29:23.045Z"
   },
   {
    "duration": 127,
    "start_time": "2022-03-31T06:29:30.323Z"
   },
   {
    "duration": 134,
    "start_time": "2022-03-31T06:30:59.798Z"
   },
   {
    "duration": 125,
    "start_time": "2022-03-31T06:31:02.557Z"
   },
   {
    "duration": 125,
    "start_time": "2022-03-31T06:32:47.424Z"
   },
   {
    "duration": 126,
    "start_time": "2022-03-31T06:33:02.920Z"
   },
   {
    "duration": 120,
    "start_time": "2022-03-31T06:33:15.352Z"
   },
   {
    "duration": 97,
    "start_time": "2022-03-31T06:34:56.234Z"
   },
   {
    "duration": 47,
    "start_time": "2022-03-31T06:35:09.957Z"
   },
   {
    "duration": 57,
    "start_time": "2022-03-31T06:35:25.651Z"
   },
   {
    "duration": 47,
    "start_time": "2022-03-31T06:35:44.109Z"
   },
   {
    "duration": 34,
    "start_time": "2022-03-31T06:37:28.181Z"
   },
   {
    "duration": 41,
    "start_time": "2022-03-31T06:37:39.397Z"
   },
   {
    "duration": 43,
    "start_time": "2022-03-31T06:38:12.687Z"
   },
   {
    "duration": 42,
    "start_time": "2022-03-31T06:38:43.215Z"
   },
   {
    "duration": 101,
    "start_time": "2022-03-31T06:38:54.776Z"
   },
   {
    "duration": 375,
    "start_time": "2022-03-31T06:38:59.542Z"
   },
   {
    "duration": 376,
    "start_time": "2022-03-31T06:38:59.919Z"
   },
   {
    "duration": 45,
    "start_time": "2022-03-31T06:39:00.296Z"
   },
   {
    "duration": 33,
    "start_time": "2022-03-31T06:39:00.344Z"
   },
   {
    "duration": 52,
    "start_time": "2022-03-31T06:39:00.378Z"
   },
   {
    "duration": 14,
    "start_time": "2022-03-31T06:39:00.433Z"
   },
   {
    "duration": 25,
    "start_time": "2022-03-31T06:39:00.449Z"
   },
   {
    "duration": 137,
    "start_time": "2022-03-31T06:39:00.476Z"
   },
   {
    "duration": 75,
    "start_time": "2022-03-31T06:39:00.614Z"
   },
   {
    "duration": 143,
    "start_time": "2022-03-31T06:39:00.691Z"
   },
   {
    "duration": 56,
    "start_time": "2022-03-31T06:39:00.836Z"
   },
   {
    "duration": 76,
    "start_time": "2022-03-31T06:39:00.893Z"
   },
   {
    "duration": 56,
    "start_time": "2022-03-31T06:39:00.971Z"
   },
   {
    "duration": 113,
    "start_time": "2022-03-31T06:39:01.029Z"
   },
   {
    "duration": 14,
    "start_time": "2022-03-31T06:39:01.143Z"
   },
   {
    "duration": 38,
    "start_time": "2022-03-31T06:39:01.158Z"
   },
   {
    "duration": 87,
    "start_time": "2022-03-31T06:41:45.768Z"
   },
   {
    "duration": 27,
    "start_time": "2022-03-31T06:41:59.380Z"
   },
   {
    "duration": 34,
    "start_time": "2022-03-31T06:42:07.240Z"
   },
   {
    "duration": 35,
    "start_time": "2022-03-31T06:47:05.184Z"
   },
   {
    "duration": 34,
    "start_time": "2022-03-31T06:47:09.582Z"
   },
   {
    "duration": 30,
    "start_time": "2022-03-31T06:50:45.379Z"
   },
   {
    "duration": 34,
    "start_time": "2022-03-31T06:50:52.963Z"
   },
   {
    "duration": 35,
    "start_time": "2022-03-31T06:51:18.228Z"
   },
   {
    "duration": 42,
    "start_time": "2022-03-31T06:51:39.677Z"
   },
   {
    "duration": 23,
    "start_time": "2022-03-31T06:51:50.965Z"
   },
   {
    "duration": 40,
    "start_time": "2022-03-31T06:52:02.765Z"
   },
   {
    "duration": 132,
    "start_time": "2022-03-31T06:53:12.311Z"
   },
   {
    "duration": 38,
    "start_time": "2022-03-31T06:53:49.111Z"
   },
   {
    "duration": 38,
    "start_time": "2022-03-31T06:54:08.503Z"
   },
   {
    "duration": 30,
    "start_time": "2022-03-31T06:54:41.145Z"
   },
   {
    "duration": 451,
    "start_time": "2022-03-31T06:54:56.200Z"
   },
   {
    "duration": 35,
    "start_time": "2022-03-31T06:55:05.648Z"
   },
   {
    "duration": 34,
    "start_time": "2022-03-31T06:55:24.657Z"
   },
   {
    "duration": 34,
    "start_time": "2022-03-31T06:56:25.411Z"
   },
   {
    "duration": 500,
    "start_time": "2022-03-31T06:59:54.110Z"
   },
   {
    "duration": 215,
    "start_time": "2022-03-31T07:00:30.273Z"
   },
   {
    "duration": 165,
    "start_time": "2022-03-31T07:00:48.879Z"
   },
   {
    "duration": 335,
    "start_time": "2022-03-31T07:01:43.720Z"
   },
   {
    "duration": 230,
    "start_time": "2022-03-31T07:01:48.649Z"
   },
   {
    "duration": 230,
    "start_time": "2022-03-31T07:03:51.860Z"
   },
   {
    "duration": 212,
    "start_time": "2022-03-31T07:04:02.252Z"
   },
   {
    "duration": 233,
    "start_time": "2022-03-31T07:04:25.413Z"
   },
   {
    "duration": 227,
    "start_time": "2022-03-31T07:06:03.750Z"
   },
   {
    "duration": 3191,
    "start_time": "2022-03-31T07:08:26.762Z"
   },
   {
    "duration": 280,
    "start_time": "2022-03-31T07:10:07.356Z"
   },
   {
    "duration": 95,
    "start_time": "2022-03-31T07:10:49.715Z"
   },
   {
    "duration": 92,
    "start_time": "2022-03-31T07:10:52.874Z"
   },
   {
    "duration": 412,
    "start_time": "2022-03-31T07:10:59.364Z"
   },
   {
    "duration": 317,
    "start_time": "2022-03-31T07:11:15.413Z"
   },
   {
    "duration": 612,
    "start_time": "2022-03-31T07:11:57.870Z"
   },
   {
    "duration": 369,
    "start_time": "2022-03-31T07:11:58.483Z"
   },
   {
    "duration": 39,
    "start_time": "2022-03-31T07:11:58.854Z"
   },
   {
    "duration": 30,
    "start_time": "2022-03-31T07:11:58.895Z"
   },
   {
    "duration": 23,
    "start_time": "2022-03-31T07:11:58.926Z"
   },
   {
    "duration": 16,
    "start_time": "2022-03-31T07:11:58.950Z"
   },
   {
    "duration": 43,
    "start_time": "2022-03-31T07:11:58.967Z"
   },
   {
    "duration": 126,
    "start_time": "2022-03-31T07:11:59.011Z"
   },
   {
    "duration": 85,
    "start_time": "2022-03-31T07:11:59.139Z"
   },
   {
    "duration": 127,
    "start_time": "2022-03-31T07:11:59.227Z"
   },
   {
    "duration": 60,
    "start_time": "2022-03-31T07:11:59.356Z"
   },
   {
    "duration": 58,
    "start_time": "2022-03-31T07:11:59.418Z"
   },
   {
    "duration": 52,
    "start_time": "2022-03-31T07:11:59.478Z"
   },
   {
    "duration": 110,
    "start_time": "2022-03-31T07:11:59.532Z"
   },
   {
    "duration": 12,
    "start_time": "2022-03-31T07:11:59.643Z"
   },
   {
    "duration": 362,
    "start_time": "2022-03-31T07:11:59.657Z"
   },
   {
    "duration": 355,
    "start_time": "2022-03-31T07:12:49.767Z"
   },
   {
    "duration": 403,
    "start_time": "2022-03-31T07:16:40.260Z"
   },
   {
    "duration": 354,
    "start_time": "2022-03-31T07:19:02.991Z"
   },
   {
    "duration": 16,
    "start_time": "2022-03-31T07:21:20.330Z"
   },
   {
    "duration": 377,
    "start_time": "2022-03-31T07:22:34.572Z"
   },
   {
    "duration": 42,
    "start_time": "2022-03-31T07:23:07.084Z"
   },
   {
    "duration": 43,
    "start_time": "2022-03-31T07:23:37.604Z"
   },
   {
    "duration": 356,
    "start_time": "2022-03-31T07:24:41.237Z"
   },
   {
    "duration": 416,
    "start_time": "2022-03-31T07:25:24.831Z"
   },
   {
    "duration": 443,
    "start_time": "2022-03-31T07:26:55.880Z"
   },
   {
    "duration": 373,
    "start_time": "2022-03-31T07:27:25.689Z"
   },
   {
    "duration": 343,
    "start_time": "2022-03-31T07:27:51.234Z"
   },
   {
    "duration": 15,
    "start_time": "2022-03-31T07:34:20.321Z"
   },
   {
    "duration": 42,
    "start_time": "2022-03-31T07:41:29.410Z"
   },
   {
    "duration": 346,
    "start_time": "2022-03-31T07:42:36.011Z"
   },
   {
    "duration": 51,
    "start_time": "2022-03-31T07:50:50.406Z"
   },
   {
    "duration": 112,
    "start_time": "2022-03-31T07:51:21.829Z"
   },
   {
    "duration": 121,
    "start_time": "2022-03-31T07:51:27.245Z"
   },
   {
    "duration": 19,
    "start_time": "2022-03-31T07:51:39.901Z"
   },
   {
    "duration": 339,
    "start_time": "2022-03-31T07:51:55.807Z"
   },
   {
    "duration": 471,
    "start_time": "2022-03-31T07:52:25.469Z"
   },
   {
    "duration": 318,
    "start_time": "2022-03-31T07:52:36.543Z"
   },
   {
    "duration": 582,
    "start_time": "2022-03-31T07:53:27.659Z"
   },
   {
    "duration": 2,
    "start_time": "2022-03-31T07:53:28.243Z"
   },
   {
    "duration": 349,
    "start_time": "2022-03-31T07:53:28.247Z"
   },
   {
    "duration": 40,
    "start_time": "2022-03-31T07:53:28.598Z"
   },
   {
    "duration": 32,
    "start_time": "2022-03-31T07:53:28.640Z"
   },
   {
    "duration": 47,
    "start_time": "2022-03-31T07:53:28.673Z"
   },
   {
    "duration": 14,
    "start_time": "2022-03-31T07:53:28.722Z"
   },
   {
    "duration": 19,
    "start_time": "2022-03-31T07:53:28.738Z"
   },
   {
    "duration": 134,
    "start_time": "2022-03-31T07:53:28.758Z"
   },
   {
    "duration": 75,
    "start_time": "2022-03-31T07:53:28.894Z"
   },
   {
    "duration": 130,
    "start_time": "2022-03-31T07:53:28.971Z"
   },
   {
    "duration": 55,
    "start_time": "2022-03-31T07:53:29.103Z"
   },
   {
    "duration": 73,
    "start_time": "2022-03-31T07:53:29.159Z"
   },
   {
    "duration": 47,
    "start_time": "2022-03-31T07:53:29.234Z"
   },
   {
    "duration": 143,
    "start_time": "2022-03-31T07:53:29.283Z"
   },
   {
    "duration": 15,
    "start_time": "2022-03-31T07:53:29.428Z"
   },
   {
    "duration": 116,
    "start_time": "2022-03-31T07:53:29.445Z"
   },
   {
    "duration": 0,
    "start_time": "2022-03-31T07:53:29.563Z"
   },
   {
    "duration": 0,
    "start_time": "2022-03-31T07:53:29.564Z"
   },
   {
    "duration": 348,
    "start_time": "2022-03-31T07:53:59.221Z"
   },
   {
    "duration": 617,
    "start_time": "2022-03-31T07:54:14.460Z"
   },
   {
    "duration": 3,
    "start_time": "2022-03-31T07:54:15.079Z"
   },
   {
    "duration": 383,
    "start_time": "2022-03-31T07:54:15.084Z"
   },
   {
    "duration": 40,
    "start_time": "2022-03-31T07:54:15.469Z"
   },
   {
    "duration": 33,
    "start_time": "2022-03-31T07:54:15.510Z"
   },
   {
    "duration": 25,
    "start_time": "2022-03-31T07:54:15.544Z"
   },
   {
    "duration": 40,
    "start_time": "2022-03-31T07:54:15.570Z"
   },
   {
    "duration": 20,
    "start_time": "2022-03-31T07:54:15.612Z"
   },
   {
    "duration": 143,
    "start_time": "2022-03-31T07:54:15.634Z"
   },
   {
    "duration": 80,
    "start_time": "2022-03-31T07:54:15.780Z"
   },
   {
    "duration": 135,
    "start_time": "2022-03-31T07:54:15.862Z"
   },
   {
    "duration": 60,
    "start_time": "2022-03-31T07:54:15.999Z"
   },
   {
    "duration": 79,
    "start_time": "2022-03-31T07:54:16.061Z"
   },
   {
    "duration": 49,
    "start_time": "2022-03-31T07:54:16.142Z"
   },
   {
    "duration": 135,
    "start_time": "2022-03-31T07:54:16.209Z"
   },
   {
    "duration": 18,
    "start_time": "2022-03-31T07:54:16.347Z"
   },
   {
    "duration": 400,
    "start_time": "2022-03-31T07:54:16.367Z"
   },
   {
    "duration": 427,
    "start_time": "2022-03-31T07:54:16.769Z"
   },
   {
    "duration": 359,
    "start_time": "2022-03-31T07:54:17.198Z"
   },
   {
    "duration": 1128,
    "start_time": "2022-03-31T10:37:21.448Z"
   },
   {
    "duration": 5,
    "start_time": "2022-03-31T10:37:22.580Z"
   },
   {
    "duration": 585,
    "start_time": "2022-03-31T10:37:22.587Z"
   },
   {
    "duration": 57,
    "start_time": "2022-03-31T10:37:23.176Z"
   },
   {
    "duration": 63,
    "start_time": "2022-03-31T10:37:23.235Z"
   },
   {
    "duration": 33,
    "start_time": "2022-03-31T10:37:23.301Z"
   },
   {
    "duration": 57,
    "start_time": "2022-03-31T10:37:23.336Z"
   },
   {
    "duration": 72,
    "start_time": "2022-03-31T10:37:23.396Z"
   },
   {
    "duration": 195,
    "start_time": "2022-03-31T10:37:23.471Z"
   },
   {
    "duration": 118,
    "start_time": "2022-03-31T10:37:23.671Z"
   },
   {
    "duration": 191,
    "start_time": "2022-03-31T10:37:23.792Z"
   },
   {
    "duration": 90,
    "start_time": "2022-03-31T10:37:23.986Z"
   },
   {
    "duration": 100,
    "start_time": "2022-03-31T10:37:24.079Z"
   },
   {
    "duration": 89,
    "start_time": "2022-03-31T10:37:24.181Z"
   },
   {
    "duration": 230,
    "start_time": "2022-03-31T10:37:24.272Z"
   },
   {
    "duration": 27,
    "start_time": "2022-03-31T10:37:24.504Z"
   },
   {
    "duration": 628,
    "start_time": "2022-03-31T10:37:24.533Z"
   },
   {
    "duration": 617,
    "start_time": "2022-03-31T10:37:25.163Z"
   },
   {
    "duration": 560,
    "start_time": "2022-03-31T10:37:25.782Z"
   },
   {
    "duration": 862,
    "start_time": "2022-03-31T10:40:53.668Z"
   },
   {
    "duration": 3,
    "start_time": "2022-03-31T10:40:54.533Z"
   },
   {
    "duration": 480,
    "start_time": "2022-03-31T10:40:54.539Z"
   },
   {
    "duration": 57,
    "start_time": "2022-03-31T10:40:55.021Z"
   },
   {
    "duration": 45,
    "start_time": "2022-03-31T10:40:55.080Z"
   },
   {
    "duration": 61,
    "start_time": "2022-03-31T10:40:55.127Z"
   },
   {
    "duration": 24,
    "start_time": "2022-03-31T10:40:55.191Z"
   },
   {
    "duration": 69,
    "start_time": "2022-03-31T10:40:55.218Z"
   },
   {
    "duration": 173,
    "start_time": "2022-03-31T10:40:55.290Z"
   },
   {
    "duration": 110,
    "start_time": "2022-03-31T10:40:55.469Z"
   },
   {
    "duration": 168,
    "start_time": "2022-03-31T10:40:55.581Z"
   },
   {
    "duration": 77,
    "start_time": "2022-03-31T10:40:55.751Z"
   },
   {
    "duration": 100,
    "start_time": "2022-03-31T10:40:55.831Z"
   },
   {
    "duration": 89,
    "start_time": "2022-03-31T10:40:55.933Z"
   },
   {
    "duration": 226,
    "start_time": "2022-03-31T10:40:56.024Z"
   },
   {
    "duration": 35,
    "start_time": "2022-03-31T10:40:56.252Z"
   },
   {
    "duration": 570,
    "start_time": "2022-03-31T10:40:56.289Z"
   },
   {
    "duration": 596,
    "start_time": "2022-03-31T10:40:56.862Z"
   },
   {
    "duration": 571,
    "start_time": "2022-03-31T10:40:57.460Z"
   },
   {
    "duration": 37,
    "start_time": "2022-03-31T13:36:51.665Z"
   },
   {
    "duration": 12,
    "start_time": "2022-03-31T13:42:52.921Z"
   },
   {
    "duration": 16,
    "start_time": "2022-03-31T13:42:56.968Z"
   },
   {
    "duration": 18,
    "start_time": "2022-03-31T13:43:24.335Z"
   },
   {
    "duration": 24,
    "start_time": "2022-03-31T13:43:51.591Z"
   },
   {
    "duration": 25,
    "start_time": "2022-03-31T13:44:14.345Z"
   },
   {
    "duration": 20,
    "start_time": "2022-03-31T13:44:55.342Z"
   },
   {
    "duration": 19,
    "start_time": "2022-03-31T13:45:14.188Z"
   },
   {
    "duration": 707,
    "start_time": "2022-03-31T13:50:05.653Z"
   },
   {
    "duration": 21,
    "start_time": "2022-03-31T13:50:28.876Z"
   },
   {
    "duration": 18,
    "start_time": "2022-03-31T13:52:55.945Z"
   },
   {
    "duration": 22,
    "start_time": "2022-03-31T13:53:19.042Z"
   },
   {
    "duration": 34,
    "start_time": "2022-03-31T13:58:42.664Z"
   },
   {
    "duration": 18,
    "start_time": "2022-03-31T14:00:45.548Z"
   },
   {
    "duration": 1060,
    "start_time": "2022-03-31T14:01:37.634Z"
   },
   {
    "duration": 0,
    "start_time": "2022-03-31T14:01:38.698Z"
   },
   {
    "duration": 0,
    "start_time": "2022-03-31T14:01:38.700Z"
   },
   {
    "duration": 0,
    "start_time": "2022-03-31T14:01:38.703Z"
   },
   {
    "duration": 0,
    "start_time": "2022-03-31T14:01:38.705Z"
   },
   {
    "duration": 0,
    "start_time": "2022-03-31T14:01:38.708Z"
   },
   {
    "duration": 0,
    "start_time": "2022-03-31T14:01:38.710Z"
   },
   {
    "duration": 0,
    "start_time": "2022-03-31T14:01:38.712Z"
   },
   {
    "duration": 0,
    "start_time": "2022-03-31T14:01:38.714Z"
   },
   {
    "duration": 0,
    "start_time": "2022-03-31T14:01:38.772Z"
   },
   {
    "duration": 0,
    "start_time": "2022-03-31T14:01:38.774Z"
   },
   {
    "duration": 0,
    "start_time": "2022-03-31T14:01:38.775Z"
   },
   {
    "duration": 0,
    "start_time": "2022-03-31T14:01:38.776Z"
   },
   {
    "duration": 0,
    "start_time": "2022-03-31T14:01:38.778Z"
   },
   {
    "duration": 0,
    "start_time": "2022-03-31T14:01:38.779Z"
   },
   {
    "duration": 0,
    "start_time": "2022-03-31T14:01:38.780Z"
   },
   {
    "duration": 0,
    "start_time": "2022-03-31T14:01:38.781Z"
   },
   {
    "duration": 1,
    "start_time": "2022-03-31T14:01:38.782Z"
   },
   {
    "duration": 0,
    "start_time": "2022-03-31T14:01:38.784Z"
   },
   {
    "duration": 0,
    "start_time": "2022-03-31T14:01:38.785Z"
   },
   {
    "duration": 0,
    "start_time": "2022-03-31T14:01:38.786Z"
   },
   {
    "duration": 17,
    "start_time": "2022-03-31T14:02:18.289Z"
   },
   {
    "duration": 899,
    "start_time": "2022-03-31T14:02:26.678Z"
   },
   {
    "duration": 4,
    "start_time": "2022-03-31T14:02:27.580Z"
   },
   {
    "duration": 494,
    "start_time": "2022-03-31T14:02:27.590Z"
   },
   {
    "duration": 90,
    "start_time": "2022-03-31T14:02:28.087Z"
   },
   {
    "duration": 89,
    "start_time": "2022-03-31T14:02:28.181Z"
   },
   {
    "duration": 44,
    "start_time": "2022-03-31T14:02:28.273Z"
   },
   {
    "duration": 49,
    "start_time": "2022-03-31T14:02:28.319Z"
   },
   {
    "duration": 29,
    "start_time": "2022-03-31T14:02:28.370Z"
   },
   {
    "duration": 238,
    "start_time": "2022-03-31T14:02:28.403Z"
   },
   {
    "duration": 162,
    "start_time": "2022-03-31T14:02:28.643Z"
   },
   {
    "duration": 236,
    "start_time": "2022-03-31T14:02:28.808Z"
   },
   {
    "duration": 113,
    "start_time": "2022-03-31T14:02:29.047Z"
   },
   {
    "duration": 130,
    "start_time": "2022-03-31T14:02:29.163Z"
   },
   {
    "duration": 122,
    "start_time": "2022-03-31T14:02:29.296Z"
   },
   {
    "duration": 364,
    "start_time": "2022-03-31T14:02:29.421Z"
   },
   {
    "duration": 39,
    "start_time": "2022-03-31T14:02:29.787Z"
   },
   {
    "duration": 860,
    "start_time": "2022-03-31T14:02:29.829Z"
   },
   {
    "duration": 931,
    "start_time": "2022-03-31T14:02:30.692Z"
   },
   {
    "duration": 545,
    "start_time": "2022-03-31T14:02:31.626Z"
   },
   {
    "duration": 37,
    "start_time": "2022-03-31T14:02:32.173Z"
   },
   {
    "duration": 144,
    "start_time": "2022-03-31T14:02:32.212Z"
   },
   {
    "duration": 18,
    "start_time": "2022-03-31T14:03:01.949Z"
   },
   {
    "duration": 1515,
    "start_time": "2022-03-31T14:03:07.803Z"
   },
   {
    "duration": 5,
    "start_time": "2022-03-31T14:03:09.321Z"
   },
   {
    "duration": 709,
    "start_time": "2022-03-31T14:03:09.328Z"
   },
   {
    "duration": 59,
    "start_time": "2022-03-31T14:03:10.043Z"
   },
   {
    "duration": 69,
    "start_time": "2022-03-31T14:03:10.105Z"
   },
   {
    "duration": 34,
    "start_time": "2022-03-31T14:03:10.177Z"
   },
   {
    "duration": 57,
    "start_time": "2022-03-31T14:03:10.213Z"
   },
   {
    "duration": 28,
    "start_time": "2022-03-31T14:03:10.272Z"
   },
   {
    "duration": 201,
    "start_time": "2022-03-31T14:03:10.302Z"
   },
   {
    "duration": 113,
    "start_time": "2022-03-31T14:03:10.506Z"
   },
   {
    "duration": 185,
    "start_time": "2022-03-31T14:03:10.621Z"
   },
   {
    "duration": 87,
    "start_time": "2022-03-31T14:03:10.808Z"
   },
   {
    "duration": 136,
    "start_time": "2022-03-31T14:03:10.898Z"
   },
   {
    "duration": 88,
    "start_time": "2022-03-31T14:03:11.037Z"
   },
   {
    "duration": 247,
    "start_time": "2022-03-31T14:03:11.127Z"
   },
   {
    "duration": 29,
    "start_time": "2022-03-31T14:03:11.376Z"
   },
   {
    "duration": 646,
    "start_time": "2022-03-31T14:03:11.408Z"
   },
   {
    "duration": 576,
    "start_time": "2022-03-31T14:03:12.057Z"
   },
   {
    "duration": 567,
    "start_time": "2022-03-31T14:03:12.636Z"
   },
   {
    "duration": 39,
    "start_time": "2022-03-31T14:03:13.206Z"
   },
   {
    "duration": 38,
    "start_time": "2022-03-31T14:03:13.247Z"
   },
   {
    "duration": 151,
    "start_time": "2022-03-31T14:04:23.037Z"
   },
   {
    "duration": 22,
    "start_time": "2022-03-31T14:04:51.172Z"
   },
   {
    "duration": 14,
    "start_time": "2022-03-31T14:05:04.972Z"
   },
   {
    "duration": 17,
    "start_time": "2022-03-31T14:08:01.023Z"
   },
   {
    "duration": 15,
    "start_time": "2022-03-31T14:09:55.372Z"
   },
   {
    "duration": 18,
    "start_time": "2022-03-31T14:10:10.787Z"
   },
   {
    "duration": 274,
    "start_time": "2022-03-31T14:23:48.246Z"
   },
   {
    "duration": 15,
    "start_time": "2022-03-31T14:24:01.087Z"
   },
   {
    "duration": 15,
    "start_time": "2022-03-31T14:24:27.909Z"
   },
   {
    "duration": 17,
    "start_time": "2022-03-31T14:24:30.287Z"
   },
   {
    "duration": 50,
    "start_time": "2022-03-31T14:32:25.809Z"
   },
   {
    "duration": 16,
    "start_time": "2022-03-31T14:32:46.768Z"
   },
   {
    "duration": 40,
    "start_time": "2022-03-31T14:33:08.935Z"
   },
   {
    "duration": 12,
    "start_time": "2022-03-31T14:33:33.400Z"
   },
   {
    "duration": 45,
    "start_time": "2022-03-31T14:33:38.750Z"
   },
   {
    "duration": 65,
    "start_time": "2022-03-31T14:33:48.952Z"
   },
   {
    "duration": 48,
    "start_time": "2022-03-31T14:34:06.521Z"
   },
   {
    "duration": 43,
    "start_time": "2022-03-31T14:34:12.751Z"
   },
   {
    "duration": 15,
    "start_time": "2022-03-31T14:34:21.906Z"
   },
   {
    "duration": 15,
    "start_time": "2022-03-31T14:34:52.565Z"
   },
   {
    "duration": 15,
    "start_time": "2022-03-31T14:35:54.893Z"
   },
   {
    "duration": 15,
    "start_time": "2022-03-31T14:37:35.065Z"
   },
   {
    "duration": 23,
    "start_time": "2022-03-31T14:37:57.497Z"
   },
   {
    "duration": 17,
    "start_time": "2022-03-31T14:38:05.080Z"
   },
   {
    "duration": 144,
    "start_time": "2022-03-31T14:53:53.878Z"
   },
   {
    "duration": 34,
    "start_time": "2022-03-31T14:56:26.834Z"
   },
   {
    "duration": 15,
    "start_time": "2022-03-31T14:56:52.514Z"
   },
   {
    "duration": 33,
    "start_time": "2022-03-31T15:14:41.109Z"
   },
   {
    "duration": 1490,
    "start_time": "2022-03-31T15:21:08.783Z"
   },
   {
    "duration": 4,
    "start_time": "2022-03-31T15:21:10.276Z"
   },
   {
    "duration": 478,
    "start_time": "2022-03-31T15:21:10.282Z"
   },
   {
    "duration": 55,
    "start_time": "2022-03-31T15:21:10.763Z"
   },
   {
    "duration": 61,
    "start_time": "2022-03-31T15:21:10.820Z"
   },
   {
    "duration": 49,
    "start_time": "2022-03-31T15:21:10.884Z"
   },
   {
    "duration": 54,
    "start_time": "2022-03-31T15:21:10.936Z"
   },
   {
    "duration": 50,
    "start_time": "2022-03-31T15:21:10.993Z"
   },
   {
    "duration": 187,
    "start_time": "2022-03-31T15:21:11.045Z"
   },
   {
    "duration": 118,
    "start_time": "2022-03-31T15:21:11.236Z"
   },
   {
    "duration": 161,
    "start_time": "2022-03-31T15:21:11.367Z"
   },
   {
    "duration": 85,
    "start_time": "2022-03-31T15:21:11.530Z"
   },
   {
    "duration": 97,
    "start_time": "2022-03-31T15:21:11.617Z"
   },
   {
    "duration": 86,
    "start_time": "2022-03-31T15:21:11.716Z"
   },
   {
    "duration": 226,
    "start_time": "2022-03-31T15:21:11.804Z"
   },
   {
    "duration": 37,
    "start_time": "2022-03-31T15:21:12.033Z"
   },
   {
    "duration": 569,
    "start_time": "2022-03-31T15:21:12.072Z"
   },
   {
    "duration": 530,
    "start_time": "2022-03-31T15:21:12.645Z"
   },
   {
    "duration": 532,
    "start_time": "2022-03-31T15:21:13.177Z"
   },
   {
    "duration": 56,
    "start_time": "2022-03-31T15:21:13.712Z"
   },
   {
    "duration": 17,
    "start_time": "2022-03-31T15:21:13.771Z"
   },
   {
    "duration": 1623,
    "start_time": "2022-03-31T19:11:48.219Z"
   },
   {
    "duration": 4,
    "start_time": "2022-03-31T19:11:49.845Z"
   },
   {
    "duration": 567,
    "start_time": "2022-03-31T19:11:49.850Z"
   },
   {
    "duration": 55,
    "start_time": "2022-03-31T19:11:50.420Z"
   },
   {
    "duration": 44,
    "start_time": "2022-03-31T19:11:50.478Z"
   },
   {
    "duration": 58,
    "start_time": "2022-03-31T19:11:50.525Z"
   },
   {
    "duration": 23,
    "start_time": "2022-03-31T19:11:50.585Z"
   },
   {
    "duration": 35,
    "start_time": "2022-03-31T19:11:50.611Z"
   },
   {
    "duration": 172,
    "start_time": "2022-03-31T19:11:50.674Z"
   },
   {
    "duration": 105,
    "start_time": "2022-03-31T19:11:50.850Z"
   },
   {
    "duration": 179,
    "start_time": "2022-03-31T19:11:50.957Z"
   },
   {
    "duration": 83,
    "start_time": "2022-03-31T19:11:51.139Z"
   },
   {
    "duration": 104,
    "start_time": "2022-03-31T19:11:51.225Z"
   },
   {
    "duration": 89,
    "start_time": "2022-03-31T19:11:51.332Z"
   },
   {
    "duration": 240,
    "start_time": "2022-03-31T19:11:51.423Z"
   },
   {
    "duration": 29,
    "start_time": "2022-03-31T19:11:51.666Z"
   },
   {
    "duration": 579,
    "start_time": "2022-03-31T19:11:51.697Z"
   },
   {
    "duration": 550,
    "start_time": "2022-03-31T19:11:52.279Z"
   },
   {
    "duration": 561,
    "start_time": "2022-03-31T19:11:52.831Z"
   },
   {
    "duration": 32,
    "start_time": "2022-03-31T19:11:53.394Z"
   },
   {
    "duration": 14,
    "start_time": "2022-03-31T19:11:53.428Z"
   },
   {
    "duration": 88,
    "start_time": "2022-03-31T19:13:38.347Z"
   },
   {
    "duration": 1388,
    "start_time": "2022-03-31T19:18:40.496Z"
   },
   {
    "duration": 3,
    "start_time": "2022-03-31T19:18:41.887Z"
   },
   {
    "duration": 488,
    "start_time": "2022-03-31T19:18:41.892Z"
   },
   {
    "duration": 55,
    "start_time": "2022-03-31T19:18:42.383Z"
   },
   {
    "duration": 59,
    "start_time": "2022-03-31T19:18:42.441Z"
   },
   {
    "duration": 33,
    "start_time": "2022-03-31T19:18:42.502Z"
   },
   {
    "duration": 53,
    "start_time": "2022-03-31T19:18:42.537Z"
   },
   {
    "duration": 28,
    "start_time": "2022-03-31T19:18:42.592Z"
   },
   {
    "duration": 188,
    "start_time": "2022-03-31T19:18:42.622Z"
   },
   {
    "duration": 111,
    "start_time": "2022-03-31T19:18:42.814Z"
   },
   {
    "duration": 175,
    "start_time": "2022-03-31T19:18:42.927Z"
   },
   {
    "duration": 85,
    "start_time": "2022-03-31T19:18:43.104Z"
   },
   {
    "duration": 108,
    "start_time": "2022-03-31T19:18:43.191Z"
   },
   {
    "duration": 92,
    "start_time": "2022-03-31T19:18:43.301Z"
   },
   {
    "duration": 243,
    "start_time": "2022-03-31T19:18:43.395Z"
   },
   {
    "duration": 36,
    "start_time": "2022-03-31T19:18:43.641Z"
   },
   {
    "duration": 597,
    "start_time": "2022-03-31T19:18:43.679Z"
   },
   {
    "duration": 551,
    "start_time": "2022-03-31T19:18:44.278Z"
   },
   {
    "duration": 560,
    "start_time": "2022-03-31T19:18:44.831Z"
   },
   {
    "duration": 33,
    "start_time": "2022-03-31T19:18:45.393Z"
   },
   {
    "duration": 46,
    "start_time": "2022-03-31T19:18:45.429Z"
   },
   {
    "duration": 1396,
    "start_time": "2022-04-11T15:20:40.101Z"
   },
   {
    "duration": 10,
    "start_time": "2022-04-11T15:20:41.500Z"
   },
   {
    "duration": 441,
    "start_time": "2022-04-11T15:20:41.521Z"
   },
   {
    "duration": 62,
    "start_time": "2022-04-11T15:20:41.965Z"
   },
   {
    "duration": 38,
    "start_time": "2022-04-11T15:20:42.030Z"
   },
   {
    "duration": 52,
    "start_time": "2022-04-11T15:20:42.070Z"
   },
   {
    "duration": 23,
    "start_time": "2022-04-11T15:20:42.124Z"
   },
   {
    "duration": 26,
    "start_time": "2022-04-11T15:20:42.149Z"
   },
   {
    "duration": 213,
    "start_time": "2022-04-11T15:20:42.178Z"
   },
   {
    "duration": 89,
    "start_time": "2022-04-11T15:20:42.393Z"
   },
   {
    "duration": 157,
    "start_time": "2022-04-11T15:20:42.484Z"
   },
   {
    "duration": 84,
    "start_time": "2022-04-11T15:20:42.643Z"
   },
   {
    "duration": 70,
    "start_time": "2022-04-11T15:20:42.729Z"
   },
   {
    "duration": 54,
    "start_time": "2022-04-11T15:20:42.811Z"
   },
   {
    "duration": 166,
    "start_time": "2022-04-11T15:20:42.867Z"
   },
   {
    "duration": 17,
    "start_time": "2022-04-11T15:20:43.035Z"
   },
   {
    "duration": 426,
    "start_time": "2022-04-11T15:20:43.053Z"
   },
   {
    "duration": 393,
    "start_time": "2022-04-11T15:20:43.481Z"
   },
   {
    "duration": 395,
    "start_time": "2022-04-11T15:20:43.876Z"
   },
   {
    "duration": 38,
    "start_time": "2022-04-11T15:20:44.273Z"
   },
   {
    "duration": 17,
    "start_time": "2022-04-11T15:20:44.314Z"
   },
   {
    "duration": 71,
    "start_time": "2022-04-11T15:26:14.370Z"
   },
   {
    "duration": 121,
    "start_time": "2022-04-11T15:33:43.364Z"
   },
   {
    "duration": 9,
    "start_time": "2022-04-11T15:33:59.385Z"
   },
   {
    "duration": 1293,
    "start_time": "2022-04-11T18:46:35.646Z"
   },
   {
    "duration": 3,
    "start_time": "2022-04-11T18:46:36.941Z"
   },
   {
    "duration": 434,
    "start_time": "2022-04-11T18:46:36.945Z"
   },
   {
    "duration": 37,
    "start_time": "2022-04-11T18:46:37.382Z"
   },
   {
    "duration": 29,
    "start_time": "2022-04-11T18:46:37.420Z"
   },
   {
    "duration": 39,
    "start_time": "2022-04-11T18:46:37.450Z"
   },
   {
    "duration": 14,
    "start_time": "2022-04-11T18:46:37.491Z"
   },
   {
    "duration": 20,
    "start_time": "2022-04-11T18:46:37.506Z"
   },
   {
    "duration": 148,
    "start_time": "2022-04-11T18:46:37.527Z"
   },
   {
    "duration": 68,
    "start_time": "2022-04-11T18:46:37.678Z"
   },
   {
    "duration": 156,
    "start_time": "2022-04-11T18:46:37.748Z"
   },
   {
    "duration": 51,
    "start_time": "2022-04-11T18:46:37.905Z"
   },
   {
    "duration": 77,
    "start_time": "2022-04-11T18:46:37.957Z"
   },
   {
    "duration": 58,
    "start_time": "2022-04-11T18:46:38.035Z"
   },
   {
    "duration": 138,
    "start_time": "2022-04-11T18:46:38.094Z"
   },
   {
    "duration": 14,
    "start_time": "2022-04-11T18:46:38.233Z"
   },
   {
    "duration": 356,
    "start_time": "2022-04-11T18:46:38.249Z"
   },
   {
    "duration": 316,
    "start_time": "2022-04-11T18:46:38.607Z"
   },
   {
    "duration": 311,
    "start_time": "2022-04-11T18:46:38.925Z"
   },
   {
    "duration": 104,
    "start_time": "2022-04-11T18:46:39.238Z"
   },
   {
    "duration": 0,
    "start_time": "2022-04-11T18:46:39.343Z"
   },
   {
    "duration": 125,
    "start_time": "2022-04-11T18:52:28.056Z"
   },
   {
    "duration": 118,
    "start_time": "2022-04-11T18:52:53.839Z"
   },
   {
    "duration": 99,
    "start_time": "2022-04-11T18:55:13.650Z"
   },
   {
    "duration": 135,
    "start_time": "2022-04-11T18:55:20.474Z"
   },
   {
    "duration": 133,
    "start_time": "2022-04-11T19:02:18.034Z"
   },
   {
    "duration": 119,
    "start_time": "2022-04-11T19:03:34.723Z"
   },
   {
    "duration": 111,
    "start_time": "2022-04-11T19:04:33.260Z"
   },
   {
    "duration": 1414,
    "start_time": "2022-04-11T19:04:48.836Z"
   },
   {
    "duration": 102,
    "start_time": "2022-04-11T19:05:05.374Z"
   },
   {
    "duration": 1593,
    "start_time": "2022-04-11T19:05:10.164Z"
   },
   {
    "duration": 131,
    "start_time": "2022-04-11T19:05:30.981Z"
   },
   {
    "duration": 125,
    "start_time": "2022-04-11T19:05:41.478Z"
   },
   {
    "duration": 88,
    "start_time": "2022-04-11T19:11:00.820Z"
   },
   {
    "duration": 81,
    "start_time": "2022-04-11T19:11:13.019Z"
   },
   {
    "duration": 108,
    "start_time": "2022-04-11T19:11:42.067Z"
   },
   {
    "duration": 90,
    "start_time": "2022-04-11T19:11:52.251Z"
   },
   {
    "duration": 136,
    "start_time": "2022-04-11T19:12:53.572Z"
   },
   {
    "duration": 120,
    "start_time": "2022-04-11T19:13:15.662Z"
   },
   {
    "duration": 109,
    "start_time": "2022-04-11T19:21:00.599Z"
   },
   {
    "duration": 119,
    "start_time": "2022-04-11T19:21:14.639Z"
   },
   {
    "duration": 125,
    "start_time": "2022-04-11T19:26:34.940Z"
   },
   {
    "duration": 110,
    "start_time": "2022-04-11T19:26:45.644Z"
   },
   {
    "duration": 122,
    "start_time": "2022-04-11T19:27:04.899Z"
   },
   {
    "duration": 109,
    "start_time": "2022-04-11T19:27:13.699Z"
   },
   {
    "duration": 116,
    "start_time": "2022-04-11T19:27:47.628Z"
   },
   {
    "duration": 119,
    "start_time": "2022-04-11T19:27:56.063Z"
   },
   {
    "duration": 1081,
    "start_time": "2022-04-11T19:28:08.029Z"
   },
   {
    "duration": 3,
    "start_time": "2022-04-11T19:28:09.112Z"
   },
   {
    "duration": 383,
    "start_time": "2022-04-11T19:28:09.116Z"
   },
   {
    "duration": 37,
    "start_time": "2022-04-11T19:28:09.501Z"
   },
   {
    "duration": 29,
    "start_time": "2022-04-11T19:28:09.540Z"
   },
   {
    "duration": 23,
    "start_time": "2022-04-11T19:28:09.570Z"
   },
   {
    "duration": 14,
    "start_time": "2022-04-11T19:28:09.594Z"
   },
   {
    "duration": 17,
    "start_time": "2022-04-11T19:28:09.610Z"
   },
   {
    "duration": 145,
    "start_time": "2022-04-11T19:28:09.628Z"
   },
   {
    "duration": 74,
    "start_time": "2022-04-11T19:28:09.775Z"
   },
   {
    "duration": 140,
    "start_time": "2022-04-11T19:28:09.851Z"
   },
   {
    "duration": 57,
    "start_time": "2022-04-11T19:28:09.993Z"
   },
   {
    "duration": 81,
    "start_time": "2022-04-11T19:28:10.053Z"
   },
   {
    "duration": 58,
    "start_time": "2022-04-11T19:28:10.136Z"
   },
   {
    "duration": 128,
    "start_time": "2022-04-11T19:28:10.196Z"
   },
   {
    "duration": 16,
    "start_time": "2022-04-11T19:28:10.325Z"
   },
   {
    "duration": 349,
    "start_time": "2022-04-11T19:28:10.342Z"
   },
   {
    "duration": 315,
    "start_time": "2022-04-11T19:28:10.693Z"
   },
   {
    "duration": 327,
    "start_time": "2022-04-11T19:28:11.010Z"
   },
   {
    "duration": 34,
    "start_time": "2022-04-11T19:28:11.338Z"
   },
   {
    "duration": 11,
    "start_time": "2022-04-11T19:28:11.374Z"
   },
   {
    "duration": 1048,
    "start_time": "2022-04-11T19:29:00.184Z"
   },
   {
    "duration": 2,
    "start_time": "2022-04-11T19:29:01.234Z"
   },
   {
    "duration": 378,
    "start_time": "2022-04-11T19:29:01.238Z"
   },
   {
    "duration": 40,
    "start_time": "2022-04-11T19:29:01.618Z"
   },
   {
    "duration": 30,
    "start_time": "2022-04-11T19:29:01.660Z"
   },
   {
    "duration": 24,
    "start_time": "2022-04-11T19:29:01.692Z"
   },
   {
    "duration": 27,
    "start_time": "2022-04-11T19:29:01.718Z"
   },
   {
    "duration": 36,
    "start_time": "2022-04-11T19:29:01.747Z"
   },
   {
    "duration": 126,
    "start_time": "2022-04-11T19:29:01.785Z"
   },
   {
    "duration": 88,
    "start_time": "2022-04-11T19:29:01.913Z"
   },
   {
    "duration": 134,
    "start_time": "2022-04-11T19:29:02.003Z"
   },
   {
    "duration": 62,
    "start_time": "2022-04-11T19:29:02.139Z"
   },
   {
    "duration": 80,
    "start_time": "2022-04-11T19:29:02.203Z"
   },
   {
    "duration": 46,
    "start_time": "2022-04-11T19:29:02.285Z"
   },
   {
    "duration": 133,
    "start_time": "2022-04-11T19:29:02.333Z"
   },
   {
    "duration": 20,
    "start_time": "2022-04-11T19:29:02.468Z"
   },
   {
    "duration": 363,
    "start_time": "2022-04-11T19:29:02.489Z"
   },
   {
    "duration": 325,
    "start_time": "2022-04-11T19:29:02.854Z"
   },
   {
    "duration": 328,
    "start_time": "2022-04-11T19:29:03.181Z"
   },
   {
    "duration": 21,
    "start_time": "2022-04-11T19:29:03.510Z"
   },
   {
    "duration": 11,
    "start_time": "2022-04-11T19:29:03.533Z"
   },
   {
    "duration": 457,
    "start_time": "2022-04-11T19:31:51.402Z"
   },
   {
    "duration": 473,
    "start_time": "2022-04-11T19:32:50.003Z"
   },
   {
    "duration": 324,
    "start_time": "2022-04-11T19:33:29.443Z"
   },
   {
    "duration": 314,
    "start_time": "2022-04-11T19:39:07.713Z"
   },
   {
    "duration": 302,
    "start_time": "2022-04-11T19:39:19.681Z"
   },
   {
    "duration": 120,
    "start_time": "2022-04-12T09:11:21.967Z"
   },
   {
    "duration": 1732,
    "start_time": "2022-04-12T09:11:26.770Z"
   },
   {
    "duration": 4,
    "start_time": "2022-04-12T09:11:28.505Z"
   },
   {
    "duration": 1171,
    "start_time": "2022-04-12T09:11:28.512Z"
   },
   {
    "duration": 56,
    "start_time": "2022-04-12T09:11:29.686Z"
   },
   {
    "duration": 57,
    "start_time": "2022-04-12T09:11:29.745Z"
   },
   {
    "duration": 33,
    "start_time": "2022-04-12T09:11:29.804Z"
   },
   {
    "duration": 31,
    "start_time": "2022-04-12T09:11:29.866Z"
   },
   {
    "duration": 68,
    "start_time": "2022-04-12T09:11:29.900Z"
   },
   {
    "duration": 176,
    "start_time": "2022-04-12T09:11:29.971Z"
   },
   {
    "duration": 116,
    "start_time": "2022-04-12T09:11:30.152Z"
   },
   {
    "duration": 180,
    "start_time": "2022-04-12T09:11:30.271Z"
   },
   {
    "duration": 86,
    "start_time": "2022-04-12T09:11:30.454Z"
   },
   {
    "duration": 109,
    "start_time": "2022-04-12T09:11:30.543Z"
   },
   {
    "duration": 142,
    "start_time": "2022-04-12T09:11:30.655Z"
   },
   {
    "duration": 337,
    "start_time": "2022-04-12T09:11:30.800Z"
   },
   {
    "duration": 47,
    "start_time": "2022-04-12T09:11:31.140Z"
   },
   {
    "duration": 691,
    "start_time": "2022-04-12T09:11:31.190Z"
   },
   {
    "duration": 560,
    "start_time": "2022-04-12T09:11:31.883Z"
   },
   {
    "duration": 555,
    "start_time": "2022-04-12T09:11:32.445Z"
   },
   {
    "duration": 34,
    "start_time": "2022-04-12T09:11:33.003Z"
   },
   {
    "duration": 42,
    "start_time": "2022-04-12T09:11:33.040Z"
   },
   {
    "duration": 1527,
    "start_time": "2022-04-12T09:19:21.591Z"
   },
   {
    "duration": 4,
    "start_time": "2022-04-12T09:19:23.121Z"
   },
   {
    "duration": 557,
    "start_time": "2022-04-12T09:19:23.129Z"
   },
   {
    "duration": 70,
    "start_time": "2022-04-12T09:19:23.691Z"
   },
   {
    "duration": 63,
    "start_time": "2022-04-12T09:19:23.767Z"
   },
   {
    "duration": 61,
    "start_time": "2022-04-12T09:19:23.832Z"
   },
   {
    "duration": 29,
    "start_time": "2022-04-12T09:19:23.896Z"
   },
   {
    "duration": 64,
    "start_time": "2022-04-12T09:19:23.928Z"
   },
   {
    "duration": 181,
    "start_time": "2022-04-12T09:19:23.994Z"
   },
   {
    "duration": 116,
    "start_time": "2022-04-12T09:19:24.178Z"
   },
   {
    "duration": 177,
    "start_time": "2022-04-12T09:19:24.296Z"
   },
   {
    "duration": 115,
    "start_time": "2022-04-12T09:19:24.475Z"
   },
   {
    "duration": 140,
    "start_time": "2022-04-12T09:19:24.593Z"
   },
   {
    "duration": 105,
    "start_time": "2022-04-12T09:19:24.737Z"
   },
   {
    "duration": 271,
    "start_time": "2022-04-12T09:19:24.844Z"
   },
   {
    "duration": 28,
    "start_time": "2022-04-12T09:19:25.118Z"
   },
   {
    "duration": 903,
    "start_time": "2022-04-12T09:19:25.168Z"
   },
   {
    "duration": 1232,
    "start_time": "2022-04-12T09:19:26.074Z"
   },
   {
    "duration": 1858,
    "start_time": "2022-04-12T09:19:27.309Z"
   },
   {
    "duration": 33,
    "start_time": "2022-04-12T09:19:29.170Z"
   },
   {
    "duration": 73,
    "start_time": "2022-04-12T09:19:29.205Z"
   },
   {
    "duration": 1039,
    "start_time": "2022-04-12T13:36:42.790Z"
   },
   {
    "duration": 3,
    "start_time": "2022-04-12T13:36:43.832Z"
   },
   {
    "duration": 713,
    "start_time": "2022-04-12T13:36:43.836Z"
   },
   {
    "duration": 59,
    "start_time": "2022-04-12T13:36:44.551Z"
   },
   {
    "duration": 55,
    "start_time": "2022-04-12T13:36:44.612Z"
   },
   {
    "duration": 35,
    "start_time": "2022-04-12T13:36:44.669Z"
   },
   {
    "duration": 42,
    "start_time": "2022-04-12T13:36:44.706Z"
   },
   {
    "duration": 19,
    "start_time": "2022-04-12T13:36:44.750Z"
   },
   {
    "duration": 140,
    "start_time": "2022-04-12T13:36:44.770Z"
   },
   {
    "duration": 82,
    "start_time": "2022-04-12T13:36:44.913Z"
   },
   {
    "duration": 123,
    "start_time": "2022-04-12T13:36:44.996Z"
   },
   {
    "duration": 64,
    "start_time": "2022-04-12T13:36:45.121Z"
   },
   {
    "duration": 80,
    "start_time": "2022-04-12T13:36:45.187Z"
   },
   {
    "duration": 47,
    "start_time": "2022-04-12T13:36:45.269Z"
   },
   {
    "duration": 140,
    "start_time": "2022-04-12T13:36:45.318Z"
   },
   {
    "duration": 17,
    "start_time": "2022-04-12T13:36:45.460Z"
   },
   {
    "duration": 340,
    "start_time": "2022-04-12T13:36:45.479Z"
   },
   {
    "duration": 318,
    "start_time": "2022-04-12T13:36:45.821Z"
   },
   {
    "duration": 313,
    "start_time": "2022-04-12T13:36:46.141Z"
   },
   {
    "duration": 23,
    "start_time": "2022-04-12T13:36:46.456Z"
   },
   {
    "duration": 12,
    "start_time": "2022-04-12T13:36:46.481Z"
   },
   {
    "duration": 108,
    "start_time": "2022-04-12T13:38:23.952Z"
   },
   {
    "duration": 10,
    "start_time": "2022-04-12T13:38:34.835Z"
   }
  ],
  "kernelspec": {
   "display_name": "Python 3 (ipykernel)",
   "language": "python",
   "name": "python3"
  },
  "language_info": {
   "codemirror_mode": {
    "name": "ipython",
    "version": 3
   },
   "file_extension": ".py",
   "mimetype": "text/x-python",
   "name": "python",
   "nbconvert_exporter": "python",
   "pygments_lexer": "ipython3",
   "version": "3.9.12"
  },
  "toc": {
   "base_numbering": 1,
   "nav_menu": {},
   "number_sections": true,
   "sideBar": true,
   "skip_h1_title": true,
   "title_cell": "Table of Contents",
   "title_sidebar": "Contents",
   "toc_cell": false,
   "toc_position": {
    "height": "calc(100% - 180px)",
    "left": "10px",
    "top": "150px",
    "width": "165px"
   },
   "toc_section_display": true,
   "toc_window_display": true
  }
 },
 "nbformat": 4,
 "nbformat_minor": 2
}
